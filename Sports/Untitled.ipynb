{
 "cells": [
  {
   "cell_type": "code",
   "execution_count": 1,
   "metadata": {},
   "outputs": [],
   "source": [
    "from sportsreference.nfl import boxscore\n",
    "import noaa\n",
    "from config import *\n",
    "import requests\n",
    "import pandas as pd\n",
    "import datetime as dt\n",
    "from sqlalchemy import create_engine"
   ]
  },
  {
   "cell_type": "code",
   "execution_count": 3,
   "metadata": {},
   "outputs": [],
   "source": [
    "superb_owl = boxscore.Boxscore('201902030ram')\n",
    "final_data = None"
   ]
  },
  {
   "cell_type": "code",
   "execution_count": 4,
   "metadata": {},
   "outputs": [
    {
     "data": {
      "text/plain": [
       "'Mercedes-Benz Stadium'"
      ]
     },
     "execution_count": 4,
     "metadata": {},
     "output_type": "execute_result"
    }
   ],
   "source": [
    "superb_owl.stadium"
   ]
  },
  {
   "cell_type": "code",
   "execution_count": 5,
   "metadata": {},
   "outputs": [],
   "source": [
    "url = gplace_url + superb_owl.stadium.replace(\" \", \"%20\") +'&key=' + gmaps_key"
   ]
  },
  {
   "cell_type": "code",
   "execution_count": 6,
   "metadata": {},
   "outputs": [],
   "source": [
    "response=requests.get(url)\n",
    "place_id = \"\"\n",
    "if response.status_code == 200:\n",
    "    place_id = response.json()['candidates'][0]['place_id']"
   ]
  },
  {
   "cell_type": "code",
   "execution_count": 7,
   "metadata": {},
   "outputs": [
    {
     "data": {
      "text/plain": [
       "'ChIJ45nHOHwD9YgR7vBdgAC-QWU'"
      ]
     },
     "execution_count": 7,
     "metadata": {},
     "output_type": "execute_result"
    }
   ],
   "source": [
    "place_id"
   ]
  },
  {
   "cell_type": "code",
   "execution_count": 8,
   "metadata": {},
   "outputs": [],
   "source": [
    "url = gmaps_url + place_id + '&key=' + gmaps_key\n",
    "response=requests.get(url)\n",
    "loc = response.json()['results'][0]['geometry']['location']"
   ]
  },
  {
   "cell_type": "code",
   "execution_count": 9,
   "metadata": {},
   "outputs": [],
   "source": [
    "lat = loc['lat']\n",
    "lng = loc['lng']"
   ]
  },
  {
   "cell_type": "code",
   "execution_count": 10,
   "metadata": {},
   "outputs": [],
   "source": [
    "extent = \",\".join([str(lat-0.25), str(lng-0.25), str(lat+0.25), str(lng+0.25)])\n",
    "dat = pd.DataFrame(noaa.get('stations', limit=None, extent=extent))"
   ]
  },
  {
   "cell_type": "code",
   "execution_count": 11,
   "metadata": {},
   "outputs": [],
   "source": [
    "dat['latitude'] = dat['latitude'] - lat\n",
    "dat['longitude'] = dat['longitude'] - lng"
   ]
  },
  {
   "cell_type": "code",
   "execution_count": 12,
   "metadata": {},
   "outputs": [],
   "source": [
    "dat['dist'] = dat['latitude'].map(lambda x: x*x) + dat['longitude'].map(lambda y: y*y)"
   ]
  },
  {
   "cell_type": "code",
   "execution_count": 46,
   "metadata": {},
   "outputs": [],
   "source": [
    "stations = dat.sort_values('dist')['id']"
   ]
  },
  {
   "cell_type": "code",
   "execution_count": 4,
   "metadata": {},
   "outputs": [],
   "source": [
    "game_date = dt.datetime.strptime(superb_owl.date, \"%A %b %d, %Y\").strftime('%Y-%m-%d')"
   ]
  },
  {
   "cell_type": "code",
   "execution_count": 50,
   "metadata": {},
   "outputs": [],
   "source": [
    "for station in stations:\n",
    "    try:\n",
    "        out = noaa.get('data', limit=1000, datasetid=\"NEXRAD3\",stationid = station, startdate = game_date, enddate=game_date)\n",
    "        break\n",
    "    except:\n",
    "        None"
   ]
  },
  {
   "cell_type": "code",
   "execution_count": 33,
   "metadata": {},
   "outputs": [],
   "source": [
    "final_data = pd.DataFrame({'game_id':['201902030ram'], 'home_team':[superb_owl.home_abbreviation], 'away_team':[superb_owl.away_abbreviation], 'winning_team':[superb_owl.winning_abbr], 'date':[superb_owl.date], 'time':[superb_owl.time], 'weather_type':[out[0]['datatype']], 'weather_value':[out[0]['value']], 'station':[out[0]['station']]})"
   ]
  },
  {
   "cell_type": "code",
   "execution_count": 24,
   "metadata": {},
   "outputs": [
    {
     "data": {
      "text/plain": [
       "[{'date': '2019-02-03T00:00:00',\n",
       "  'datatype': 'PRCP',\n",
       "  'station': 'GHCND:US1GAFT0037',\n",
       "  'attributes': ',,N,',\n",
       "  'value': 18}]"
      ]
     },
     "execution_count": 24,
     "metadata": {},
     "output_type": "execute_result"
    }
   ],
   "source": [
    "out"
   ]
  },
  {
   "cell_type": "code",
   "execution_count": 34,
   "metadata": {},
   "outputs": [
    {
     "data": {
      "text/html": [
       "<div>\n",
       "<style scoped>\n",
       "    .dataframe tbody tr th:only-of-type {\n",
       "        vertical-align: middle;\n",
       "    }\n",
       "\n",
       "    .dataframe tbody tr th {\n",
       "        vertical-align: top;\n",
       "    }\n",
       "\n",
       "    .dataframe thead th {\n",
       "        text-align: right;\n",
       "    }\n",
       "</style>\n",
       "<table border=\"1\" class=\"dataframe\">\n",
       "  <thead>\n",
       "    <tr style=\"text-align: right;\">\n",
       "      <th></th>\n",
       "      <th>game_id</th>\n",
       "      <th>home_team</th>\n",
       "      <th>away_team</th>\n",
       "      <th>winning_team</th>\n",
       "      <th>date</th>\n",
       "      <th>time</th>\n",
       "      <th>weather_type</th>\n",
       "      <th>weather_value</th>\n",
       "      <th>station</th>\n",
       "    </tr>\n",
       "  </thead>\n",
       "  <tbody>\n",
       "    <tr>\n",
       "      <th>0</th>\n",
       "      <td>201902030ram</td>\n",
       "      <td>nwe</td>\n",
       "      <td>ram</td>\n",
       "      <td>NWE</td>\n",
       "      <td>Sunday Feb 3, 2019</td>\n",
       "      <td>6:30pm</td>\n",
       "      <td>PRCP</td>\n",
       "      <td>18</td>\n",
       "      <td>GHCND:US1GAFT0037</td>\n",
       "    </tr>\n",
       "  </tbody>\n",
       "</table>\n",
       "</div>"
      ],
      "text/plain": [
       "        game_id home_team away_team winning_team                date    time  \\\n",
       "0  201902030ram       nwe       ram          NWE  Sunday Feb 3, 2019  6:30pm   \n",
       "\n",
       "  weather_type  weather_value            station  \n",
       "0         PRCP             18  GHCND:US1GAFT0037  "
      ]
     },
     "execution_count": 34,
     "metadata": {},
     "output_type": "execute_result"
    }
   ],
   "source": [
    "final_data"
   ]
  },
  {
   "cell_type": "code",
   "execution_count": 9,
   "metadata": {},
   "outputs": [
    {
     "data": {
      "text/plain": [
       "[{'date': '2019-02-03T00:00:00',\n",
       "  'datatype': 'PRCP',\n",
       "  'station': 'GHCND:US1GAFT0037',\n",
       "  'attributes': ',,N,',\n",
       "  'value': 18}]"
      ]
     },
     "execution_count": 9,
     "metadata": {},
     "output_type": "execute_result"
    }
   ],
   "source": [
    "out"
   ]
  },
  {
   "cell_type": "code",
   "execution_count": 8,
   "metadata": {},
   "outputs": [],
   "source": [
    "station = 'GHCND:US1GAFT0037'\n",
    "out = noaa.get('data', limit=None, datasetid=\"GHCND\",stationid = station, startdate = game_date, enddate=game_date)"
   ]
  },
  {
   "cell_type": "code",
   "execution_count": 44,
   "metadata": {},
   "outputs": [
    {
     "data": {
      "text/plain": [
       "[{'uid': 'gov.noaa.ncdc:C00861',\n",
       "  'mindate': '1763-01-01',\n",
       "  'maxdate': '2019-09-14',\n",
       "  'name': 'Daily Summaries',\n",
       "  'datacoverage': 1,\n",
       "  'id': 'GHCND'},\n",
       " {'uid': 'gov.noaa.ncdc:C00946',\n",
       "  'mindate': '1763-01-01',\n",
       "  'maxdate': '2019-08-01',\n",
       "  'name': 'Global Summary of the Month',\n",
       "  'datacoverage': 1,\n",
       "  'id': 'GSOM'},\n",
       " {'uid': 'gov.noaa.ncdc:C00947',\n",
       "  'mindate': '1763-01-01',\n",
       "  'maxdate': '2019-01-01',\n",
       "  'name': 'Global Summary of the Year',\n",
       "  'datacoverage': 1,\n",
       "  'id': 'GSOY'},\n",
       " {'uid': 'gov.noaa.ncdc:C00345',\n",
       "  'mindate': '1991-06-05',\n",
       "  'maxdate': '2019-09-15',\n",
       "  'name': 'Weather Radar (Level II)',\n",
       "  'datacoverage': 0.95,\n",
       "  'id': 'NEXRAD2'},\n",
       " {'uid': 'gov.noaa.ncdc:C00708',\n",
       "  'mindate': '1994-05-20',\n",
       "  'maxdate': '2019-09-13',\n",
       "  'name': 'Weather Radar (Level III)',\n",
       "  'datacoverage': 0.95,\n",
       "  'id': 'NEXRAD3'},\n",
       " {'uid': 'gov.noaa.ncdc:C00821',\n",
       "  'mindate': '2010-01-01',\n",
       "  'maxdate': '2010-01-01',\n",
       "  'name': 'Normals Annual/Seasonal',\n",
       "  'datacoverage': 1,\n",
       "  'id': 'NORMAL_ANN'},\n",
       " {'uid': 'gov.noaa.ncdc:C00823',\n",
       "  'mindate': '2010-01-01',\n",
       "  'maxdate': '2010-12-31',\n",
       "  'name': 'Normals Daily',\n",
       "  'datacoverage': 1,\n",
       "  'id': 'NORMAL_DLY'},\n",
       " {'uid': 'gov.noaa.ncdc:C00824',\n",
       "  'mindate': '2010-01-01',\n",
       "  'maxdate': '2010-12-31',\n",
       "  'name': 'Normals Hourly',\n",
       "  'datacoverage': 1,\n",
       "  'id': 'NORMAL_HLY'},\n",
       " {'uid': 'gov.noaa.ncdc:C00822',\n",
       "  'mindate': '2010-01-01',\n",
       "  'maxdate': '2010-12-01',\n",
       "  'name': 'Normals Monthly',\n",
       "  'datacoverage': 1,\n",
       "  'id': 'NORMAL_MLY'},\n",
       " {'uid': 'gov.noaa.ncdc:C00505',\n",
       "  'mindate': '1970-05-12',\n",
       "  'maxdate': '2014-01-01',\n",
       "  'name': 'Precipitation 15 Minute',\n",
       "  'datacoverage': 0.25,\n",
       "  'id': 'PRECIP_15'},\n",
       " {'uid': 'gov.noaa.ncdc:C00313',\n",
       "  'mindate': '1900-01-01',\n",
       "  'maxdate': '2014-01-01',\n",
       "  'name': 'Precipitation Hourly',\n",
       "  'datacoverage': 1,\n",
       "  'id': 'PRECIP_HLY'}]"
      ]
     },
     "execution_count": 44,
     "metadata": {},
     "output_type": "execute_result"
    }
   ],
   "source": [
    "noaa.get('datasets')"
   ]
  },
  {
   "cell_type": "code",
   "execution_count": 5,
   "metadata": {},
   "outputs": [
    {
     "data": {
      "text/plain": [
       "'Mercedes-Benz Stadium'"
      ]
     },
     "execution_count": 5,
     "metadata": {},
     "output_type": "execute_result"
    }
   ],
   "source": [
    "superb_owl.stadium"
   ]
  },
  {
   "cell_type": "code",
   "execution_count": 49,
   "metadata": {},
   "outputs": [
    {
     "data": {
      "text/plain": [
       "200"
      ]
     },
     "execution_count": 49,
     "metadata": {},
     "output_type": "execute_result"
    }
   ],
   "source": [
    "response.status_code"
   ]
  },
  {
   "cell_type": "code",
   "execution_count": 36,
   "metadata": {},
   "outputs": [],
   "source": [
    "games = boxscore.Boxscores(1,2018,40)"
   ]
  },
  {
   "cell_type": "code",
   "execution_count": 37,
   "metadata": {},
   "outputs": [
    {
     "ename": "TypeError",
     "evalue": "'Boxscores' object is not iterable",
     "output_type": "error",
     "traceback": [
      "\u001b[1;31m---------------------------------------------------------------------------\u001b[0m",
      "\u001b[1;31mTypeError\u001b[0m                                 Traceback (most recent call last)",
      "\u001b[1;32m<ipython-input-37-bbdedabe3cb3>\u001b[0m in \u001b[0;36m<module>\u001b[1;34m\u001b[0m\n\u001b[1;32m----> 1\u001b[1;33m \u001b[1;32mfor\u001b[0m \u001b[0mgame\u001b[0m \u001b[1;32min\u001b[0m \u001b[0mgames\u001b[0m\u001b[1;33m:\u001b[0m\u001b[1;33m\u001b[0m\u001b[1;33m\u001b[0m\u001b[0m\n\u001b[0m\u001b[0;32m      2\u001b[0m     \u001b[0mprint\u001b[0m\u001b[1;33m(\u001b[0m\u001b[0mgame\u001b[0m\u001b[1;33m)\u001b[0m\u001b[1;33m\u001b[0m\u001b[1;33m\u001b[0m\u001b[0m\n",
      "\u001b[1;31mTypeError\u001b[0m: 'Boxscores' object is not iterable"
     ]
    }
   ],
   "source": [
    "for game in games:\n",
    "    print(game)"
   ]
  },
  {
   "cell_type": "code",
   "execution_count": 42,
   "metadata": {},
   "outputs": [
    {
     "name": "stdout",
     "output_type": "stream",
     "text": [
      "201809060phi\n",
      "201809090clt\n",
      "201809090cle\n",
      "201809090rav\n",
      "201809090nyg\n",
      "201809090nwe\n",
      "201809090nor\n",
      "201809090min\n",
      "201809090mia\n",
      "201809090sdg\n",
      "201809090den\n",
      "201809090crd\n",
      "201809090car\n",
      "201809090gnb\n",
      "201809100det\n",
      "201809100rai\n",
      "201809130cin\n",
      "201809160gnb\n",
      "201809160buf\n",
      "201809160atl\n",
      "201809160was\n",
      "201809160tam\n",
      "201809160pit\n",
      "201809160oti\n",
      "201809160nyj\n",
      "201809160nor\n",
      "201809160sfo\n",
      "201809160ram\n",
      "201809160den\n",
      "201809160jax\n",
      "201809160dal\n",
      "201809170chi\n",
      "201809200cle\n",
      "201809230htx\n",
      "201809230car\n",
      "201809230atl\n",
      "201809230was\n",
      "201809230rav\n",
      "201809230phi\n",
      "201809230min\n",
      "201809230mia\n",
      "201809230kan\n",
      "201809230jax\n",
      "201809230ram\n",
      "201809230crd\n",
      "201809230sea\n",
      "201809230det\n",
      "201809240tam\n",
      "201809270ram\n",
      "201809300dal\n",
      "201809300clt\n",
      "201809300chi\n",
      "201809300atl\n",
      "201809300oti\n",
      "201809300nwe\n",
      "201809300jax\n",
      "201809300gnb\n",
      "201809300crd\n",
      "201809300rai\n",
      "201809300sdg\n",
      "201809300nyg\n",
      "201809300pit\n",
      "201810010den\n",
      "201810040nwe\n",
      "201810070det\n",
      "201810070cle\n",
      "201810070cin\n",
      "201810070car\n",
      "201810070buf\n",
      "201810070pit\n",
      "201810070nyj\n",
      "201810070kan\n",
      "201810070sdg\n",
      "201810070sfo\n",
      "201810070sea\n",
      "201810070phi\n",
      "201810070htx\n",
      "201810080nor\n",
      "201810110nyg\n",
      "201810140cle\n",
      "201810140cin\n",
      "201810140atl\n",
      "201810140was\n",
      "201810140rai\n",
      "201810140nyj\n",
      "201810140min\n",
      "201810140mia\n",
      "201810140htx\n",
      "201810140den\n",
      "201810140dal\n",
      "201810140oti\n",
      "201810140nwe\n",
      "201810150gnb\n",
      "201810180crd\n",
      "201810210sdg\n",
      "201810210mia\n",
      "201810210jax\n",
      "201810210clt\n",
      "201810210chi\n",
      "201810210tam\n",
      "201810210phi\n",
      "201810210nyj\n",
      "201810210rav\n",
      "201810210was\n",
      "201810210sfo\n",
      "201810210kan\n",
      "201810220atl\n",
      "201810250htx\n",
      "201810280jax\n",
      "201810280det\n",
      "201810280cin\n",
      "201810280chi\n",
      "201810280car\n",
      "201810280pit\n",
      "201810280nyg\n",
      "201810280kan\n",
      "201810280rai\n",
      "201810280crd\n",
      "201810280ram\n",
      "201810280min\n",
      "201810290buf\n",
      "201811010sfo\n",
      "201811040mia\n",
      "201811040cle\n",
      "201811040car\n",
      "201811040buf\n",
      "201811040was\n",
      "201811040rav\n",
      "201811040min\n",
      "201811040den\n",
      "201811040sea\n",
      "201811040nor\n",
      "201811040nwe\n",
      "201811050dal\n",
      "201811080pit\n",
      "201811110clt\n",
      "201811110cle\n",
      "201811110cin\n",
      "201811110chi\n",
      "201811110tam\n",
      "201811110oti\n",
      "201811110nyj\n",
      "201811110kan\n",
      "201811110rai\n",
      "201811110gnb\n",
      "201811110ram\n",
      "201811110phi\n",
      "201811120sfo\n",
      "201811150sea\n",
      "201811180det\n",
      "201811180clt\n",
      "201811180atl\n",
      "201811180was\n",
      "201811180rav\n",
      "201811180nyg\n",
      "201811180jax\n",
      "201811180crd\n",
      "201811180sdg\n",
      "201811180nor\n",
      "201811180chi\n",
      "201811190ram\n",
      "201811220det\n",
      "201811220dal\n",
      "201811220nor\n",
      "201811250cin\n",
      "201811250car\n",
      "201811250buf\n",
      "201811250tam\n",
      "201811250rav\n",
      "201811250phi\n",
      "201811250nyj\n",
      "201811250sdg\n",
      "201811250den\n",
      "201811250clt\n",
      "201811250min\n",
      "201811260htx\n",
      "201811290dal\n",
      "201812020htx\n",
      "201812020gnb\n",
      "201812020det\n",
      "201812020cin\n",
      "201812020atl\n",
      "201812020tam\n",
      "201812020nyg\n",
      "201812020mia\n",
      "201812020jax\n",
      "201812020rai\n",
      "201812020oti\n",
      "201812020sea\n",
      "201812020nwe\n",
      "201812020pit\n",
      "201812030phi\n",
      "201812060oti\n",
      "201812090cle\n",
      "201812090buf\n",
      "201812090was\n",
      "201812090tam\n",
      "201812090mia\n",
      "201812090kan\n",
      "201812090htx\n",
      "201812090gnb\n",
      "201812090sfo\n",
      "201812090sdg\n",
      "201812090dal\n",
      "201812090crd\n",
      "201812090rai\n",
      "201812090chi\n",
      "201812100sea\n",
      "201812130kan\n",
      "201812150nyj\n",
      "201812150den\n",
      "201812160chi\n",
      "201812160buf\n",
      "201812160atl\n",
      "201812160rav\n",
      "201812160nyg\n",
      "201812160min\n",
      "201812160jax\n",
      "201812160clt\n",
      "201812160cin\n",
      "201812160sfo\n",
      "201812160pit\n",
      "201812160ram\n",
      "201812170car\n",
      "201812220oti\n",
      "201812220sdg\n",
      "201812230clt\n",
      "201812230cle\n",
      "201812230car\n",
      "201812230phi\n",
      "201812230nyj\n",
      "201812230nwe\n",
      "201812230mia\n",
      "201812230det\n",
      "201812230dal\n",
      "201812230crd\n",
      "201812230sfo\n",
      "201812230nor\n",
      "201812230sea\n",
      "201812240rai\n",
      "201812300htx\n",
      "201812300gnb\n",
      "201812300buf\n",
      "201812300tam\n",
      "201812300nyg\n",
      "201812300nwe\n",
      "201812300nor\n",
      "201812300min\n",
      "201812300kan\n",
      "201812300den\n",
      "201812300was\n",
      "201812300sea\n",
      "201812300rav\n",
      "201812300ram\n",
      "201812300pit\n",
      "201812300oti\n",
      "201901050htx\n",
      "201901050dal\n",
      "201901060rav\n",
      "201901060chi\n",
      "201901120kan\n",
      "201901120ram\n",
      "201901130nwe\n",
      "201901130nor\n",
      "201901200nor\n",
      "201901200kan\n",
      "201902030ram\n"
     ]
    }
   ],
   "source": [
    "for gameday in games.games.values():\n",
    "    for game in gameday:\n",
    "        print(game['boxscore'])"
   ]
  },
  {
   "cell_type": "code",
   "execution_count": null,
   "metadata": {},
   "outputs": [],
   "source": []
  }
 ],
 "metadata": {
  "kernelspec": {
   "display_name": "Python 3",
   "language": "python",
   "name": "python3"
  },
  "language_info": {
   "codemirror_mode": {
    "name": "ipython",
    "version": 3
   },
   "file_extension": ".py",
   "mimetype": "text/x-python",
   "name": "python",
   "nbconvert_exporter": "python",
   "pygments_lexer": "ipython3",
   "version": "3.7.3"
  }
 },
 "nbformat": 4,
 "nbformat_minor": 4
}
