{
 "cells": [
  {
   "cell_type": "code",
   "execution_count": 1,
   "id": "58acc9fd",
   "metadata": {},
   "outputs": [],
   "source": [
    "using LinearAlgebra"
   ]
  },
  {
   "cell_type": "code",
   "execution_count": 2,
   "id": "5d6cd0ff-8ea3-496f-b0bd-d23aa1438821",
   "metadata": {},
   "outputs": [
    {
     "data": {
      "text/plain": [
       "int_to_binarray (generic function with 1 method)"
      ]
     },
     "execution_count": 2,
     "metadata": {},
     "output_type": "execute_result"
    }
   ],
   "source": [
    "function int_to_binarray(x::Int,y::Int)\n",
    "    out = Array{Int8}(undef, y)\n",
    "    t = x\n",
    "    for i in 1:y\n",
    "        out[i] = t % 2\n",
    "        t ÷= 2\n",
    "    end\n",
    "    return out\n",
    "end"
   ]
  },
  {
   "cell_type": "code",
   "execution_count": 3,
   "id": "e82fa571-6de6-42cf-9a8a-bcbb5712f394",
   "metadata": {},
   "outputs": [
    {
     "data": {
      "text/plain": [
       "8-element Array{Int8,1}:\n",
       " 0\n",
       " 0\n",
       " 0\n",
       " 0\n",
       " 0\n",
       " 1\n",
       " 0\n",
       " 0"
      ]
     },
     "execution_count": 3,
     "metadata": {},
     "output_type": "execute_result"
    }
   ],
   "source": [
    "int_to_binarray(32, 8)"
   ]
  },
  {
   "cell_type": "code",
   "execution_count": 4,
   "id": "eedb0a86-374c-455a-b660-fa30c50285ab",
   "metadata": {},
   "outputs": [
    {
     "data": {
      "text/plain": [
       "Problem"
      ]
     },
     "execution_count": 4,
     "metadata": {},
     "output_type": "execute_result"
    }
   ],
   "source": [
    "struct Problem\n",
    "    x1::Vector{Int8}\n",
    "    x2::Vector{Int8}\n",
    "    y::Vector{Int8}\n",
    "    n::Int\n",
    "end\n",
    "function Problem(x1::Number, x2::Number, siz::Number)\n",
    "    x1_in = Int64(x1)\n",
    "    x2_in = Int64(x2)\n",
    "    siz_in = Int64(siz)\n",
    "    y_in = x1_in + x2_in\n",
    "    return Problem(int_to_binarray(x1_in, siz_in), int_to_binarray(x2_in, siz_in), int_to_binarray(y_in, siz_in), siz)\n",
    "end\n",
    "\n",
    "function Problem(x1::Number, x2::Number)\n",
    "    n = Int(ceil(log2(max(x1, x2))))\n",
    "    return Problem(x1, x2, n)\n",
    "end"
   ]
  },
  {
   "cell_type": "code",
   "execution_count": 5,
   "id": "4d115568-aed2-4712-a367-a5d5b048500d",
   "metadata": {},
   "outputs": [
    {
     "data": {
      "text/plain": [
       "Problem(Int8[0, 1, 0, 0, 0, 1, 0, 1], Int8[1, 1, 1, 1, 1, 1, 0, 1], Int8[1, 0, 0, 0, 0, 1, 1, 0], 8)"
      ]
     },
     "execution_count": 5,
     "metadata": {},
     "output_type": "execute_result"
    }
   ],
   "source": [
    "t = Problem(162, 191)"
   ]
  },
  {
   "cell_type": "code",
   "execution_count": 17,
   "id": "87c41eff",
   "metadata": {},
   "outputs": [
    {
     "data": {
      "text/plain": [
       "1209.0"
      ]
     },
     "execution_count": 17,
     "metadata": {},
     "output_type": "execute_result"
    }
   ],
   "source": [
    "function calc_dims(n)\n",
    "    return n == 1 ? 7*n+1 : 9*n-1\n",
    "end\n",
    "\n",
    "function σ(x::Real)\n",
    "    return max(min(x, 1.0), 0.0)\n",
    "end\n",
    "\n",
    "function check_problem(p::Problem, m::Matrix)\n",
    "    n = length(p.x1)\n",
    "    ndims = calc_dims(n)\n",
    "    v = 0.0*zeros(ndims)\n",
    "    v[1] = 1.0\n",
    "    v[2:n+1] = p.x1\n",
    "    v[n+2:2*n+1] = p.x2 \n",
    "    for i in 1:p.n+5\n",
    "        v = σ.(m*v)\n",
    "    end\n",
    "    solution = v[2*n+2:3*n+1]\n",
    "    out = 0\n",
    "    for k in 1:length(solution)\n",
    "        out += 2^(k-1)*solution[k]\n",
    "    end\n",
    "    return out\n",
    "end\n",
    "\n",
    "function define_solution(n)\n",
    "    ndims = calc_dims(n)\n",
    "    out = zeros((ndims, ndims))\n",
    "    for i in 1:2*n+1\n",
    "        out[i,i] = 1\n",
    "    end\n",
    "    #Xor(a, b) = or(a,b) and [not(a) or not(b)]\n",
    "    s = 2*n+1 #Solution space goes from s+1 to s+n\n",
    "    w = 3*n+1 #Workspace goes from w+1 to whatever\n",
    "    f = 7*n + 1 #Final workspace for math with remainders\n",
    "    xor_old = 0\n",
    "    carry_old = 0\n",
    "\n",
    "    for i in 1:n\n",
    "        ws = w + 4*(i-1)\n",
    "        ind1 = 1+i\n",
    "        ind2 = 1+i+n\n",
    "\n",
    "        #a or b\n",
    "        out[ws+1, ind1] = 1\n",
    "        out[ws+1, ind2] = 1\n",
    "\n",
    "        #not(a) or not(b)\n",
    "        out[ws+2, 1] = 2\n",
    "        out[ws+2, ind1] = -1\n",
    "        out[ws+2, ind2] = -1\n",
    "\n",
    "        #Xor(a,b) -- result\n",
    "        xor_ind = ws+3\n",
    "        out[ws+3, 1] = -1\n",
    "        out[ws+3, ws+1] = 1\n",
    "        out[ws+3, ws+2] = 1\n",
    "\n",
    "        #a and b -- carry\n",
    "        carry_ind = ws+4\n",
    "        out[ws+4, 1] = -1\n",
    "        out[ws+4, ind1] = 1\n",
    "        out[ws+4, ind2] = 1\n",
    "        if carry_old > 0\n",
    "            out[ws+4, carry_old] = 1\n",
    "        end\n",
    "\n",
    "        if i >= 2\n",
    "            ws = f + 2*(i-2)\n",
    "            out[ws+1, xor_ind] = 1\n",
    "            out[ws+1, carry_old] = 1\n",
    "            out[ws+2, 1] = 2\n",
    "            out[ws+2, xor_ind] = -1\n",
    "            out[ws+2, carry_old] = -1\n",
    "            out[s+i, 1] = -1\n",
    "            out[s+i, ws+1] = 1\n",
    "            out[s+i, ws+2] = 1\n",
    "        else\n",
    "            out[s+i, ws+3] = 1\n",
    "        end\n",
    "        xor_old = xor_ind\n",
    "        carry_old = carry_ind\n",
    "    end\n",
    "    return out\n",
    "end\n",
    "\n",
    "function check_problem(p::Problem)\n",
    "    return check_problem(p, define_solution(p.n))\n",
    "end\n",
    "function check_problem(x1::Number, x2::Number)\n",
    "    return check_problem(Problem(x1, x2))\n",
    "end\n",
    "function check_problem(x1::Number, x2::Number, n::Int)\n",
    "    return check_problem(Problem(x1, x2, n))\n",
    "end\n",
    "check_problem(152,1057)"
   ]
  },
  {
   "cell_type": "markdown",
   "id": "21346f4b-4698-404e-8d37-c515f9a4bab2",
   "metadata": {},
   "source": [
    "Now we need to start constructing a neural network. The simple neural network will be a vector of nodes with a dense matrix of weights. This will probably turn into a sparse matrix for large numbers of nodes, but with a small number of nodes it's faster to do it as a dense matrix."
   ]
  },
  {
   "cell_type": "code",
   "execution_count": 168,
   "id": "64e25259-e1d3-4c08-b04b-d64a3315a793",
   "metadata": {},
   "outputs": [
    {
     "ename": "ErrorException",
     "evalue": "\u001b[91minvalid redefinition of constant σ\u001b[39m",
     "output_type": "error",
     "traceback": [
      "\u001b[91minvalid redefinition of constant σ\u001b[39m",
      "",
      "Stacktrace:",
      " [1] top-level scope at In[168]:12"
     ]
    }
   ],
   "source": [
    "function increment_network(vec, mat, func, n_static)\n",
    "    temp = mat * vec\n",
    "    for i in 1:length(vec)\n",
    "        if i <= n_static\n",
    "            temp[i] = vec[i]\n",
    "        else\n",
    "            temp[i] = func(temp[i])\n",
    "        end\n",
    "    end\n",
    "    return temp\n",
    "end\n",
    "σ = (x)->atan(x)*2/π"
   ]
  },
  {
   "cell_type": "code",
   "execution_count": null,
   "id": "688f0abb",
   "metadata": {},
   "outputs": [],
   "source": []
  }
 ],
 "metadata": {
  "kernelspec": {
   "display_name": "Julia 1.4.1",
   "language": "julia",
   "name": "julia-1.4"
  },
  "language_info": {
   "file_extension": ".jl",
   "mimetype": "application/julia",
   "name": "julia",
   "version": "1.4.1"
  }
 },
 "nbformat": 4,
 "nbformat_minor": 5
}
