{
 "cells": [
  {
   "cell_type": "code",
   "execution_count": 1,
   "id": "hindu-tracker",
   "metadata": {},
   "outputs": [
    {
     "name": "stderr",
     "output_type": "stream",
     "text": [
      "Gtk-Message: 20:40:47.008: Failed to load module \"canberra-gtk-module\"\n",
      "Gtk-Message: 20:40:47.008: Failed to load module \"canberra-gtk-module\"\n"
     ]
    }
   ],
   "source": [
    "using FITSIO, StatsBase, Images, ImageView, JLD, Dates, FileIO, Formatting, Plots, FiniteDifferences"
   ]
  },
  {
   "cell_type": "code",
   "execution_count": 2,
   "id": "minimal-provincial",
   "metadata": {},
   "outputs": [
    {
     "data": {
      "text/plain": [
       "remove_bad_pixels (generic function with 1 method)"
      ]
     },
     "execution_count": 2,
     "metadata": {},
     "output_type": "execute_result"
    }
   ],
   "source": [
    "function remove_bad_pixels(data, threshold)\n",
    "    d = zeros(Float64, size(data).+2)\n",
    "    d[2:end-1, 2:end-1] = data\n",
    "    out = (d[3:end, 2:end-1] + d[1:end-2, 2:end-1] + d[2:end-1, 3:end] + d[2:end-1, 1:end-2])/4\n",
    "    out[out .< 0 ] .= 1\n",
    "    t_out = copy(data)\n",
    "    t_out[t_out .> threshold*out] = out[t_out .> threshold*out]\n",
    "    return Float32.(t_out)\n",
    "end"
   ]
  },
  {
   "cell_type": "code",
   "execution_count": 3,
   "id": "induced-company",
   "metadata": {},
   "outputs": [
    {
     "data": {
      "text/plain": [
       "crop_symmetric (generic function with 1 method)"
      ]
     },
     "execution_count": 3,
     "metadata": {},
     "output_type": "execute_result"
    }
   ],
   "source": [
    "function crop_symmetric(data, n)\n",
    "    return data[1+n:end-n, 1+n:end-n]\n",
    "end"
   ]
  },
  {
   "cell_type": "code",
   "execution_count": 4,
   "id": "noble-plate",
   "metadata": {},
   "outputs": [
    {
     "data": {
      "text/plain": [
       "other_normalize_vec (generic function with 1 method)"
      ]
     },
     "execution_count": 4,
     "metadata": {},
     "output_type": "execute_result"
    }
   ],
   "source": [
    "function normalize_vec(data, quant, value)\n",
    "    p = quantile(vec(data), quant)\n",
    "    return data.*(value/p)\n",
    "end\n",
    "\n",
    "function other_normalize_vec(data, quant, value)\n",
    "    p = quantile(vec(data), quant)\n",
    "    norm = mean(vec(data[data .<= p]))\n",
    "    return data.*(value/norm)\n",
    "end"
   ]
  },
  {
   "cell_type": "code",
   "execution_count": 5,
   "id": "reduced-pavilion",
   "metadata": {},
   "outputs": [
    {
     "data": {
      "text/plain": [
       "get_time (generic function with 1 method)"
      ]
     },
     "execution_count": 5,
     "metadata": {},
     "output_type": "execute_result"
    }
   ],
   "source": [
    "function import_fits(fname, crop::Int64=0)\n",
    "    f = FITS(fname)\n",
    "    data=read(f[2])\n",
    "    data[data .< 0] .= 0\n",
    "    temp = remove_bad_pixels(data, 25)\n",
    "    temp = crop_symmetric(temp, crop)\n",
    "    temp = normalize_vec(temp, 0.6, 10)\n",
    "    return temp\n",
    "end\n",
    "\n",
    "function get_time(path)\n",
    "    f_name = split(path, \"/\")[end]\n",
    "    f_name = join(split(f_name, \".\")[1:end-1])\n",
    "    f_time = join(split(f_name, \"_\")[2:3])\n",
    "    t = DateTime(f_time, \"yyyymmddHHMM\")\n",
    "    return t\n",
    "end"
   ]
  },
  {
   "cell_type": "code",
   "execution_count": 6,
   "id": "d0e7df71-cd77-4435-b8c1-7a3693bbec45",
   "metadata": {},
   "outputs": [
    {
     "data": {
      "text/plain": [
       "convolve_circle (generic function with 1 method)"
      ]
     },
     "execution_count": 6,
     "metadata": {},
     "output_type": "execute_result"
    }
   ],
   "source": [
    "function convolve_circle(data, r_test)\n",
    "    center = (size(data) .+ 1).*0.5\n",
    "    r_test = 500\n",
    "    tot = Float64(0)\n",
    "    for i in eachindex(data)\n",
    "        r = sqrt(sum((Tuple(i) .- center).^2))\n",
    "        temp = 1 - abs(r - r_test)\n",
    "        temp = (temp > 0.0) ? temp : 0.0\n",
    "        tot += test_data[i]*temp\n",
    "    end\n",
    "    return tot\n",
    "end"
   ]
  },
  {
   "cell_type": "code",
   "execution_count": 18,
   "id": "0d570f25-7d85-4b0d-9e16-ed45a3ab8855",
   "metadata": {},
   "outputs": [
    {
     "data": {
      "text/plain": [
       "find_radius (generic function with 2 methods)"
      ]
     },
     "execution_count": 18,
     "metadata": {},
     "output_type": "execute_result"
    }
   ],
   "source": [
    "function compute_circle_convolver(data, rs)\n",
    "    data_size = size(data)\n",
    "    center = (data_size .+ 1).*0.5\n",
    "    convolver = Array{Float64, 3}(undef, data_size..., length(rs))\n",
    "    for i in CartesianIndices(convolver)\n",
    "        point = Tuple(i)\n",
    "        r = sqrt(sum((point[1:2].-center).^2))\n",
    "        temp = 1 - abs(rs[point[3]] - r)\n",
    "        convolver[i] = (temp > 0.0) ? temp : 0.0\n",
    "    end\n",
    "    return convolver\n",
    "end\n",
    "\n",
    "function find_radius(data, min_r, max_r, r_step)\n",
    "    rs = range(min_r, max_r, step=r_step)\n",
    "    comp_circ = compute_circle_convolver(test_data, rs)\n",
    "    convolves = sum(test_data .* comp_circ, dims=(1,2))\n",
    "    convolves = convolves ./ sum(comp_circ, dims=(1,2))\n",
    "    max, ind = findmax(convolves[:])\n",
    "    return rs[ind]\n",
    "end"
   ]
  },
  {
   "cell_type": "code",
   "execution_count": 22,
   "id": "d4e0f762-0b4a-43b3-9a2b-c5d839787c7a",
   "metadata": {},
   "outputs": [
    {
     "data": {
      "text/plain": [
       "399.5"
      ]
     },
     "execution_count": 22,
     "metadata": {},
     "output_type": "execute_result"
    }
   ],
   "source": [
    "test_file = \"/data/R/solar_images/aia/synoptic/2014/05/18/AIA_20140518_1800_0335.fits\"\n",
    "test_data = import_fits(test_file)\n",
    "find_radius(test_data, 300, 510, 0.5)"
   ]
  },
  {
   "cell_type": "code",
   "execution_count": 6,
   "id": "german-looking",
   "metadata": {},
   "outputs": [
    {
     "data": {
      "text/plain": [
       "import_data (generic function with 6 methods)"
      ]
     },
     "execution_count": 6,
     "metadata": {},
     "output_type": "execute_result"
    }
   ],
   "source": [
    "function import_data(filepath::String, wavelength::String, n::Int64=10000, crop::Int64=0)\n",
    "    paths = []\n",
    "    for (rootpath, dirs, files) in walkdir(filepath)\n",
    "        for file in files\n",
    "            if file[end-8:end-5]==wavelength\n",
    "                append!(paths, [join([rootpath, file], \"/\")])\n",
    "            end\n",
    "        end\n",
    "    end\n",
    "    test_data = import_fits(paths[1])\n",
    "    x,y = size(test_data)\n",
    "    n = (length(paths)<n ? length(paths) : n)\n",
    "    data = Array{Float32, 3}(undef, (x, y, n))\n",
    "    times = Vector{DateTime}(undef, n)\n",
    "    Threads.@threads for val in range(1, length=n)\n",
    "        data[:,:,val] = import_fits(paths[val], crop)\n",
    "        times[val] = get_time(paths[val])\n",
    "    end\n",
    "    return data, times\n",
    "end\n",
    "\n",
    "function import_data(filepath::String, n::Int64=10000, crop::Int64=0)\n",
    "    paths = []\n",
    "    for (rootpath, dirs, files) in walkdir(filepath)\n",
    "        for file in files\n",
    "            append!(paths, [join([rootpath, file], \"/\")])\n",
    "        end\n",
    "    end\n",
    "    test_data = import_fits(paths[1])\n",
    "    x,y = size(test_data)\n",
    "    n = (length(paths)<n ? length(paths) : n)\n",
    "    data = Array{Float32, 3}(undef, (x, y, n))\n",
    "    times = Vector{DateTime}(undef, n)\n",
    "    Threads.@threads for val in range(1, length=n)\n",
    "        data[:,:,val] = import_fits(paths[val], crop)\n",
    "        times[val] = get_time(paths[val])\n",
    "    end\n",
    "    return data, times\n",
    "end"
   ]
  },
  {
   "cell_type": "code",
   "execution_count": 7,
   "id": "intelligent-hopkins",
   "metadata": {},
   "outputs": [
    {
     "data": {
      "text/plain": [
       "load_save_aia_data (generic function with 1 method)"
      ]
     },
     "execution_count": 7,
     "metadata": {},
     "output_type": "execute_result"
    }
   ],
   "source": [
    "function load_save_hmi_data(year)\n",
    "    data, times = import_data(format(\"/data/R/solar_images/hmi/hmi_data/{:4d}\", year))\n",
    "    fname = format(\"./data/{:4d}_HMI.jld\", year)\n",
    "    save(File(format\"JLD\",fname),\"data\", data, \"times\", times)\n",
    "end\n",
    "\n",
    "function load_save_aia_data(year, wavelength)\n",
    "    data, times = import_data(format(\"/data/R/solar_images/aia/synoptic/{:4d}\", year), format(\"{:0>4d}\", wavelength))\n",
    "    fname = format(\"./data/{:4d}_AIA{:0>4d}.jld\", year, wavelength)\n",
    "    save(File(format\"JLD\",fname),\"data\", data, \"times\", times)\n",
    "end"
   ]
  },
  {
   "cell_type": "code",
   "execution_count": null,
   "id": "secondary-swimming",
   "metadata": {},
   "outputs": [],
   "source": [
    "for year in range(2010, 2021, step=1)\n",
    "    for wavelength in [94, 131, 171, 193, 211, 304, 335, 1600, 4500]\n",
    "        load_save_aia_data(year, wavelength)\n",
    "    end\n",
    "    load_save_hmi_data(year)\n",
    "end"
   ]
  },
  {
   "cell_type": "code",
   "execution_count": 68,
   "id": "75005838-04af-40f5-8986-e80cddd1a319",
   "metadata": {},
   "outputs": [
    {
     "name": "stdout",
     "output_type": "stream",
     "text": [
      "[1 3 5; 2 4 6]\n",
      "\n",
      "[7 9 11; 8 10 12]\n",
      "\n",
      "[13 15 17; 14 16 18]\n",
      "\n",
      "[19 21 23; 20 22 24]"
     ]
    },
    {
     "data": {
      "text/plain": [
       "2×3 Matrix{Int64}:\n",
       " 1  2  3\n",
       " 1  2  3"
      ]
     },
     "execution_count": 68,
     "metadata": {},
     "output_type": "execute_result"
    }
   ],
   "source": [
    "temp_data = Array{Int64, 3}(undef, 2,3, 4)\n",
    "for i in eachindex(temp_data)\n",
    "    temp_data[i] = sum(Tuple(i))\n",
    "end\n",
    "print(temp_data)\n",
    "temp_data_2 = [1 2 3; 1 2 3]"
   ]
  },
  {
   "cell_type": "code",
   "execution_count": 69,
   "id": "12ee509e-bf08-44a3-b46b-5aba21f0e6d9",
   "metadata": {},
   "outputs": [
    {
     "data": {
      "text/plain": [
       "2×3×4 Array{Int64, 3}:\n",
       "[:, :, 1] =\n",
       " 1  6  15\n",
       " 2  8  18\n",
       "\n",
       "[:, :, 2] =\n",
       " 7  18  33\n",
       " 8  20  36\n",
       "\n",
       "[:, :, 3] =\n",
       " 13  30  51\n",
       " 14  32  54\n",
       "\n",
       "[:, :, 4] =\n",
       " 19  42  69\n",
       " 20  44  72"
      ]
     },
     "execution_count": 69,
     "metadata": {},
     "output_type": "execute_result"
    }
   ],
   "source": [
    "temp_data_2.*temp_data"
   ]
  },
  {
   "cell_type": "code",
   "execution_count": 75,
   "id": "f6c54956-49d7-46d5-b704-0fea6557d879",
   "metadata": {},
   "outputs": [
    {
     "data": {
      "text/plain": [
       "3-element Vector{Int64}:\n",
       " 1\n",
       " 2\n",
       " 3"
      ]
     },
     "execution_count": 75,
     "metadata": {},
     "output_type": "execute_result"
    }
   ],
   "source": [
    "b = [1; 2; 3]"
   ]
  },
  {
   "cell_type": "code",
   "execution_count": 76,
   "id": "2568d0b2-9a00-4ef7-9668-5376b6d743de",
   "metadata": {},
   "outputs": [
    {
     "data": {
      "text/plain": [
       "2-element Vector{Int64}:\n",
       " 1\n",
       " 2"
      ]
     },
     "execution_count": 76,
     "metadata": {},
     "output_type": "execute_result"
    }
   ],
   "source": [
    "b[1:2]"
   ]
  },
  {
   "cell_type": "code",
   "execution_count": 91,
   "id": "c6d76c53-d8db-4647-997c-d864e95e45ed",
   "metadata": {},
   "outputs": [
    {
     "name": "stdout",
     "output_type": "stream",
     "text": [
      "CartesianIndex(1, 1, 1)CartesianIndex(2, 1, 1)CartesianIndex(1, 2, 1)CartesianIndex(2, 2, 1)CartesianIndex(1, 3, 1)CartesianIndex(2, 3, 1)CartesianIndex(1, 1, 2)CartesianIndex(2, 1, 2)CartesianIndex(1, 2, 2)CartesianIndex(2, 2, 2)CartesianIndex(1, 3, 2)CartesianIndex(2, 3, 2)CartesianIndex(1, 1, 3)CartesianIndex(2, 1, 3)CartesianIndex(1, 2, 3)CartesianIndex(2, 2, 3)CartesianIndex(1, 3, 3)CartesianIndex(2, 3, 3)CartesianIndex(1, 1, 4)CartesianIndex(2, 1, 4)CartesianIndex(1, 2, 4)CartesianIndex(2, 2, 4)CartesianIndex(1, 3, 4)CartesianIndex(2, 3, 4)"
     ]
    }
   ],
   "source": [
    "for i in CartesianIndices(temp_data)\n",
    "    print(i)\n",
    "end"
   ]
  },
  {
   "cell_type": "code",
   "execution_count": null,
   "id": "aa783405-4872-4f9d-81d5-38f11b17b882",
   "metadata": {},
   "outputs": [],
   "source": []
  }
 ],
 "metadata": {
  "kernelspec": {
   "display_name": "Julia 1.6.0",
   "language": "julia",
   "name": "julia-1.6"
  },
  "language_info": {
   "file_extension": ".jl",
   "mimetype": "application/julia",
   "name": "julia",
   "version": "1.6.0"
  }
 },
 "nbformat": 4,
 "nbformat_minor": 5
}
