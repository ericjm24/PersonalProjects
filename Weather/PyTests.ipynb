{
 "cells": [
  {
   "cell_type": "code",
   "execution_count": 1,
   "metadata": {},
   "outputs": [],
   "source": [
    "#Importing dependencies\n",
    "import noaa\n",
    "import numpy as np\n",
    "import pandas as pd"
   ]
  },
  {
   "cell_type": "code",
   "execution_count": 5,
   "metadata": {},
   "outputs": [
    {
     "data": {
      "text/html": [
       "<div>\n",
       "<style scoped>\n",
       "    .dataframe tbody tr th:only-of-type {\n",
       "        vertical-align: middle;\n",
       "    }\n",
       "\n",
       "    .dataframe tbody tr th {\n",
       "        vertical-align: top;\n",
       "    }\n",
       "\n",
       "    .dataframe thead th {\n",
       "        text-align: right;\n",
       "    }\n",
       "</style>\n",
       "<table border=\"1\" class=\"dataframe\">\n",
       "  <thead>\n",
       "    <tr style=\"text-align: right;\">\n",
       "      <th></th>\n",
       "      <th>datacoverage</th>\n",
       "      <th>elevation</th>\n",
       "      <th>elevationUnit</th>\n",
       "      <th>id</th>\n",
       "      <th>latitude</th>\n",
       "      <th>longitude</th>\n",
       "      <th>maxdate</th>\n",
       "      <th>mindate</th>\n",
       "      <th>name</th>\n",
       "    </tr>\n",
       "  </thead>\n",
       "  <tbody>\n",
       "    <tr>\n",
       "      <th>0</th>\n",
       "      <td>0.7727</td>\n",
       "      <td>1662.1</td>\n",
       "      <td>METERS</td>\n",
       "      <td>COOP:267397</td>\n",
       "      <td>40.90000</td>\n",
       "      <td>-115.31667</td>\n",
       "      <td>1978-10-01</td>\n",
       "      <td>1939-06-01</td>\n",
       "      <td>SEVENTY ONE RANCH, NV US</td>\n",
       "    </tr>\n",
       "    <tr>\n",
       "      <th>1</th>\n",
       "      <td>0.9914</td>\n",
       "      <td>1983.0</td>\n",
       "      <td>METERS</td>\n",
       "      <td>COOP:267443</td>\n",
       "      <td>41.85000</td>\n",
       "      <td>-119.63333</td>\n",
       "      <td>1972-02-01</td>\n",
       "      <td>1933-07-01</td>\n",
       "      <td>SHELDON, NV US</td>\n",
       "    </tr>\n",
       "    <tr>\n",
       "      <th>2</th>\n",
       "      <td>0.9957</td>\n",
       "      <td>1789.2</td>\n",
       "      <td>METERS</td>\n",
       "      <td>COOP:267450</td>\n",
       "      <td>38.91620</td>\n",
       "      <td>-114.40220</td>\n",
       "      <td>2011-02-01</td>\n",
       "      <td>1988-10-01</td>\n",
       "      <td>SHOSHONE 5 N, NV US</td>\n",
       "    </tr>\n",
       "    <tr>\n",
       "      <th>3</th>\n",
       "      <td>0.9861</td>\n",
       "      <td>1302.7</td>\n",
       "      <td>METERS</td>\n",
       "      <td>COOP:267463</td>\n",
       "      <td>37.76170</td>\n",
       "      <td>-117.56580</td>\n",
       "      <td>2015-11-01</td>\n",
       "      <td>1968-01-01</td>\n",
       "      <td>SILVERPEAK, NV US</td>\n",
       "    </tr>\n",
       "    <tr>\n",
       "      <th>4</th>\n",
       "      <td>0.9744</td>\n",
       "      <td>1449.0</td>\n",
       "      <td>METERS</td>\n",
       "      <td>COOP:267609</td>\n",
       "      <td>38.81667</td>\n",
       "      <td>-119.33333</td>\n",
       "      <td>1966-09-01</td>\n",
       "      <td>1931-01-01</td>\n",
       "      <td>SMITH 1 N, NV US</td>\n",
       "    </tr>\n",
       "  </tbody>\n",
       "</table>\n",
       "</div>"
      ],
      "text/plain": [
       "   datacoverage  elevation elevationUnit           id  latitude  longitude  \\\n",
       "0        0.7727     1662.1        METERS  COOP:267397  40.90000 -115.31667   \n",
       "1        0.9914     1983.0        METERS  COOP:267443  41.85000 -119.63333   \n",
       "2        0.9957     1789.2        METERS  COOP:267450  38.91620 -114.40220   \n",
       "3        0.9861     1302.7        METERS  COOP:267463  37.76170 -117.56580   \n",
       "4        0.9744     1449.0        METERS  COOP:267609  38.81667 -119.33333   \n",
       "\n",
       "      maxdate     mindate                      name  \n",
       "0  1978-10-01  1939-06-01  SEVENTY ONE RANCH, NV US  \n",
       "1  1972-02-01  1933-07-01            SHELDON, NV US  \n",
       "2  2011-02-01  1988-10-01       SHOSHONE 5 N, NV US  \n",
       "3  2015-11-01  1968-01-01         SILVERPEAK, NV US  \n",
       "4  1966-09-01  1931-01-01          SMITH 1 N, NV US  "
      ]
     },
     "execution_count": 5,
     "metadata": {},
     "output_type": "execute_result"
    }
   ],
   "source": [
    "dat = pd.DataFrame(noaa.get('stations', limit=523, offset=10592))\n",
    "dat.head()"
   ]
  },
  {
   "cell_type": "code",
   "execution_count": 4,
   "metadata": {},
   "outputs": [
    {
     "name": "stdout",
     "output_type": "stream",
     "text": [
      "Retrieving page 1 of 2\n",
      "Retrieving page 2 of 2\n"
     ]
    },
    {
     "data": {
      "text/plain": [
       "1500"
      ]
     },
     "execution_count": 4,
     "metadata": {},
     "output_type": "execute_result"
    }
   ],
   "source": [
    "#example call:\n",
    "#https://www.ncdc.noaa.gov/cdo-web/api/v2/data?datasetid=GHCND&locationid=ZIP:28801&startdate=2010-05-01&enddate=2010-05-01\n",
    "dat = pd.DataFrame(noaa.get('data', datasetid='GHCND', locationid='ZIP:28801', startdate='2010-05-01', enddate='2011-05-01', limit=1500))\n",
    "len(dat)"
   ]
  },
  {
   "cell_type": "code",
   "execution_count": 5,
   "metadata": {},
   "outputs": [
    {
     "data": {
      "text/html": [
       "<div>\n",
       "<style scoped>\n",
       "    .dataframe tbody tr th:only-of-type {\n",
       "        vertical-align: middle;\n",
       "    }\n",
       "\n",
       "    .dataframe tbody tr th {\n",
       "        vertical-align: top;\n",
       "    }\n",
       "\n",
       "    .dataframe thead th {\n",
       "        text-align: right;\n",
       "    }\n",
       "</style>\n",
       "<table border=\"1\" class=\"dataframe\">\n",
       "  <thead>\n",
       "    <tr style=\"text-align: right;\">\n",
       "      <th></th>\n",
       "      <th>attributes</th>\n",
       "      <th>datatype</th>\n",
       "      <th>date</th>\n",
       "      <th>station</th>\n",
       "      <th>value</th>\n",
       "    </tr>\n",
       "  </thead>\n",
       "  <tbody>\n",
       "    <tr>\n",
       "      <th>0</th>\n",
       "      <td>,,N,</td>\n",
       "      <td>PRCP</td>\n",
       "      <td>2010-05-01T00:00:00</td>\n",
       "      <td>GHCND:US1NCBC0005</td>\n",
       "      <td>0</td>\n",
       "    </tr>\n",
       "    <tr>\n",
       "      <th>1</th>\n",
       "      <td>,,N,</td>\n",
       "      <td>SNOW</td>\n",
       "      <td>2010-05-01T00:00:00</td>\n",
       "      <td>GHCND:US1NCBC0005</td>\n",
       "      <td>0</td>\n",
       "    </tr>\n",
       "    <tr>\n",
       "      <th>2</th>\n",
       "      <td>,,0,2400</td>\n",
       "      <td>PRCP</td>\n",
       "      <td>2010-05-01T00:00:00</td>\n",
       "      <td>GHCND:USW00013872</td>\n",
       "      <td>3</td>\n",
       "    </tr>\n",
       "    <tr>\n",
       "      <th>3</th>\n",
       "      <td>,,0,</td>\n",
       "      <td>SNOW</td>\n",
       "      <td>2010-05-01T00:00:00</td>\n",
       "      <td>GHCND:USW00013872</td>\n",
       "      <td>0</td>\n",
       "    </tr>\n",
       "    <tr>\n",
       "      <th>4</th>\n",
       "      <td>,,0,</td>\n",
       "      <td>SNWD</td>\n",
       "      <td>2010-05-01T00:00:00</td>\n",
       "      <td>GHCND:USW00013872</td>\n",
       "      <td>0</td>\n",
       "    </tr>\n",
       "  </tbody>\n",
       "</table>\n",
       "</div>"
      ],
      "text/plain": [
       "  attributes datatype                 date            station  value\n",
       "0       ,,N,     PRCP  2010-05-01T00:00:00  GHCND:US1NCBC0005      0\n",
       "1       ,,N,     SNOW  2010-05-01T00:00:00  GHCND:US1NCBC0005      0\n",
       "2   ,,0,2400     PRCP  2010-05-01T00:00:00  GHCND:USW00013872      3\n",
       "3       ,,0,     SNOW  2010-05-01T00:00:00  GHCND:USW00013872      0\n",
       "4       ,,0,     SNWD  2010-05-01T00:00:00  GHCND:USW00013872      0"
      ]
     },
     "execution_count": 5,
     "metadata": {},
     "output_type": "execute_result"
    }
   ],
   "source": [
    "dat.head()"
   ]
  },
  {
   "cell_type": "code",
   "execution_count": null,
   "metadata": {},
   "outputs": [],
   "source": []
  }
 ],
 "metadata": {
  "kernelspec": {
   "display_name": "Python 3",
   "language": "python",
   "name": "python3"
  },
  "language_info": {
   "codemirror_mode": {
    "name": "ipython",
    "version": 3
   },
   "file_extension": ".py",
   "mimetype": "text/x-python",
   "name": "python",
   "nbconvert_exporter": "python",
   "pygments_lexer": "ipython3",
   "version": "3.7.3"
  }
 },
 "nbformat": 4,
 "nbformat_minor": 4
}
