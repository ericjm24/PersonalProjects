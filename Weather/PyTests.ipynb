{
 "cells": [
  {
   "cell_type": "code",
   "execution_count": 1,
   "metadata": {},
   "outputs": [],
   "source": [
    "#Importing dependencies\n",
    "import noaa\n",
    "import numpy as np\n",
    "import pandas as pd"
   ]
  },
  {
   "cell_type": "code",
   "execution_count": 2,
   "metadata": {},
   "outputs": [
    {
     "data": {
      "text/html": [
       "<div>\n",
       "<style scoped>\n",
       "    .dataframe tbody tr th:only-of-type {\n",
       "        vertical-align: middle;\n",
       "    }\n",
       "\n",
       "    .dataframe tbody tr th {\n",
       "        vertical-align: top;\n",
       "    }\n",
       "\n",
       "    .dataframe thead th {\n",
       "        text-align: right;\n",
       "    }\n",
       "</style>\n",
       "<table border=\"1\" class=\"dataframe\">\n",
       "  <thead>\n",
       "    <tr style=\"text-align: right;\">\n",
       "      <th></th>\n",
       "      <th>datacoverage</th>\n",
       "      <th>elevation</th>\n",
       "      <th>elevationUnit</th>\n",
       "      <th>id</th>\n",
       "      <th>latitude</th>\n",
       "      <th>longitude</th>\n",
       "      <th>maxdate</th>\n",
       "      <th>mindate</th>\n",
       "      <th>name</th>\n",
       "    </tr>\n",
       "  </thead>\n",
       "  <tbody>\n",
       "    <tr>\n",
       "      <th>0</th>\n",
       "      <td>0.9893</td>\n",
       "      <td>208.8</td>\n",
       "      <td>METERS</td>\n",
       "      <td>COOP:450945</td>\n",
       "      <td>47.16940</td>\n",
       "      <td>-122.00360</td>\n",
       "      <td>2012-12-01</td>\n",
       "      <td>1919-01-01</td>\n",
       "      <td>BUCKLEY 1 NE, WA US</td>\n",
       "    </tr>\n",
       "    <tr>\n",
       "      <th>1</th>\n",
       "      <td>0.9915</td>\n",
       "      <td>1049.1</td>\n",
       "      <td>METERS</td>\n",
       "      <td>COOP:450969</td>\n",
       "      <td>46.86667</td>\n",
       "      <td>-121.30000</td>\n",
       "      <td>1967-06-01</td>\n",
       "      <td>1919-01-01</td>\n",
       "      <td>BUMPING LAKE, WA US</td>\n",
       "    </tr>\n",
       "    <tr>\n",
       "      <th>2</th>\n",
       "      <td>0.9440</td>\n",
       "      <td>366.1</td>\n",
       "      <td>METERS</td>\n",
       "      <td>COOP:451059</td>\n",
       "      <td>47.43333</td>\n",
       "      <td>-121.65000</td>\n",
       "      <td>1941-08-01</td>\n",
       "      <td>1931-03-01</td>\n",
       "      <td>CAMP EIGHT, WA US</td>\n",
       "    </tr>\n",
       "    <tr>\n",
       "      <th>3</th>\n",
       "      <td>1.0000</td>\n",
       "      <td>499.9</td>\n",
       "      <td>METERS</td>\n",
       "      <td>COOP:451113</td>\n",
       "      <td>46.98333</td>\n",
       "      <td>-121.96667</td>\n",
       "      <td>1962-07-01</td>\n",
       "      <td>1957-12-01</td>\n",
       "      <td>CARBONADO 8 SSE, WA US</td>\n",
       "    </tr>\n",
       "    <tr>\n",
       "      <th>4</th>\n",
       "      <td>0.9931</td>\n",
       "      <td>475.5</td>\n",
       "      <td>METERS</td>\n",
       "      <td>COOP:451233</td>\n",
       "      <td>47.41440</td>\n",
       "      <td>-121.75610</td>\n",
       "      <td>2015-11-01</td>\n",
       "      <td>1919-01-01</td>\n",
       "      <td>CEDAR LAKE, WA US</td>\n",
       "    </tr>\n",
       "  </tbody>\n",
       "</table>\n",
       "</div>"
      ],
      "text/plain": [
       "   datacoverage  elevation elevationUnit           id  latitude  longitude  \\\n",
       "0        0.9893      208.8        METERS  COOP:450945  47.16940 -122.00360   \n",
       "1        0.9915     1049.1        METERS  COOP:450969  46.86667 -121.30000   \n",
       "2        0.9440      366.1        METERS  COOP:451059  47.43333 -121.65000   \n",
       "3        1.0000      499.9        METERS  COOP:451113  46.98333 -121.96667   \n",
       "4        0.9931      475.5        METERS  COOP:451233  47.41440 -121.75610   \n",
       "\n",
       "      maxdate     mindate                    name  \n",
       "0  2012-12-01  1919-01-01     BUCKLEY 1 NE, WA US  \n",
       "1  1967-06-01  1919-01-01     BUMPING LAKE, WA US  \n",
       "2  1941-08-01  1931-03-01       CAMP EIGHT, WA US  \n",
       "3  1962-07-01  1957-12-01  CARBONADO 8 SSE, WA US  \n",
       "4  2015-11-01  1919-01-01       CEDAR LAKE, WA US  "
      ]
     },
     "execution_count": 2,
     "metadata": {},
     "output_type": "execute_result"
    }
   ],
   "source": [
    "dat = pd.DataFrame(noaa.get('stations', limit=None, extent='46.5204,-122.2047,47.6139,-121.1065'))\n",
    "dat.head()"
   ]
  },
  {
   "cell_type": "code",
   "execution_count": 3,
   "metadata": {},
   "outputs": [
    {
     "data": {
      "text/plain": [
       "149"
      ]
     },
     "execution_count": 3,
     "metadata": {},
     "output_type": "execute_result"
    }
   ],
   "source": [
    "len(dat)"
   ]
  },
  {
   "cell_type": "code",
   "execution_count": 4,
   "metadata": {},
   "outputs": [
    {
     "name": "stdout",
     "output_type": "stream",
     "text": [
      "Retrieving page 1 of 2\n",
      "Retrieving page 2 of 2\n"
     ]
    },
    {
     "data": {
      "text/plain": [
       "1500"
      ]
     },
     "execution_count": 4,
     "metadata": {},
     "output_type": "execute_result"
    }
   ],
   "source": [
    "#example call:\n",
    "#https://www.ncdc.noaa.gov/cdo-web/api/v2/data?datasetid=GHCND&locationid=ZIP:28801&startdate=2010-05-01&enddate=2010-05-01\n",
    "dat = pd.DataFrame(noaa.get('data', datasetid='GHCND', locationid='ZIP:28801', startdate='2010-05-01', enddate='2011-05-01', limit=1500))\n",
    "len(dat)"
   ]
  },
  {
   "cell_type": "code",
   "execution_count": 5,
   "metadata": {},
   "outputs": [
    {
     "data": {
      "text/html": [
       "<div>\n",
       "<style scoped>\n",
       "    .dataframe tbody tr th:only-of-type {\n",
       "        vertical-align: middle;\n",
       "    }\n",
       "\n",
       "    .dataframe tbody tr th {\n",
       "        vertical-align: top;\n",
       "    }\n",
       "\n",
       "    .dataframe thead th {\n",
       "        text-align: right;\n",
       "    }\n",
       "</style>\n",
       "<table border=\"1\" class=\"dataframe\">\n",
       "  <thead>\n",
       "    <tr style=\"text-align: right;\">\n",
       "      <th></th>\n",
       "      <th>attributes</th>\n",
       "      <th>datatype</th>\n",
       "      <th>date</th>\n",
       "      <th>station</th>\n",
       "      <th>value</th>\n",
       "    </tr>\n",
       "  </thead>\n",
       "  <tbody>\n",
       "    <tr>\n",
       "      <th>0</th>\n",
       "      <td>,,N,</td>\n",
       "      <td>PRCP</td>\n",
       "      <td>2010-05-01T00:00:00</td>\n",
       "      <td>GHCND:US1NCBC0005</td>\n",
       "      <td>0</td>\n",
       "    </tr>\n",
       "    <tr>\n",
       "      <th>1</th>\n",
       "      <td>,,N,</td>\n",
       "      <td>SNOW</td>\n",
       "      <td>2010-05-01T00:00:00</td>\n",
       "      <td>GHCND:US1NCBC0005</td>\n",
       "      <td>0</td>\n",
       "    </tr>\n",
       "    <tr>\n",
       "      <th>2</th>\n",
       "      <td>,,0,2400</td>\n",
       "      <td>PRCP</td>\n",
       "      <td>2010-05-01T00:00:00</td>\n",
       "      <td>GHCND:USW00013872</td>\n",
       "      <td>3</td>\n",
       "    </tr>\n",
       "    <tr>\n",
       "      <th>3</th>\n",
       "      <td>,,0,</td>\n",
       "      <td>SNOW</td>\n",
       "      <td>2010-05-01T00:00:00</td>\n",
       "      <td>GHCND:USW00013872</td>\n",
       "      <td>0</td>\n",
       "    </tr>\n",
       "    <tr>\n",
       "      <th>4</th>\n",
       "      <td>,,0,</td>\n",
       "      <td>SNWD</td>\n",
       "      <td>2010-05-01T00:00:00</td>\n",
       "      <td>GHCND:USW00013872</td>\n",
       "      <td>0</td>\n",
       "    </tr>\n",
       "  </tbody>\n",
       "</table>\n",
       "</div>"
      ],
      "text/plain": [
       "  attributes datatype                 date            station  value\n",
       "0       ,,N,     PRCP  2010-05-01T00:00:00  GHCND:US1NCBC0005      0\n",
       "1       ,,N,     SNOW  2010-05-01T00:00:00  GHCND:US1NCBC0005      0\n",
       "2   ,,0,2400     PRCP  2010-05-01T00:00:00  GHCND:USW00013872      3\n",
       "3       ,,0,     SNOW  2010-05-01T00:00:00  GHCND:USW00013872      0\n",
       "4       ,,0,     SNWD  2010-05-01T00:00:00  GHCND:USW00013872      0"
      ]
     },
     "execution_count": 5,
     "metadata": {},
     "output_type": "execute_result"
    }
   ],
   "source": [
    "dat.head()"
   ]
  },
  {
   "cell_type": "code",
   "execution_count": null,
   "metadata": {},
   "outputs": [],
   "source": []
  }
 ],
 "metadata": {
  "kernelspec": {
   "display_name": "Python 3",
   "language": "python",
   "name": "python3"
  },
  "language_info": {
   "codemirror_mode": {
    "name": "ipython",
    "version": 3
   },
   "file_extension": ".py",
   "mimetype": "text/x-python",
   "name": "python",
   "nbconvert_exporter": "python",
   "pygments_lexer": "ipython3",
   "version": "3.7.3"
  }
 },
 "nbformat": 4,
 "nbformat_minor": 4
}
