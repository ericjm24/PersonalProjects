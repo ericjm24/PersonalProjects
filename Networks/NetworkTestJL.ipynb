{
 "cells": [
  {
   "cell_type": "code",
   "execution_count": 1,
   "metadata": {},
   "outputs": [
    {
     "data": {
      "text/plain": [
       "buildSubNetwork (generic function with 1 method)"
      ]
     },
     "execution_count": 1,
     "metadata": {},
     "output_type": "execute_result"
    }
   ],
   "source": [
    "include(\"twitterJL.jl\")"
   ]
  },
  {
   "cell_type": "code",
   "execution_count": 2,
   "metadata": {},
   "outputs": [],
   "source": [
    "filename = \"data/friends_test\"\n",
    "file = open(filename)\n",
    "seekend(file)\n",
    "fLen = Int64(position(file)/4)\n",
    "seekstart(file)\n",
    "net = Vector{UInt32}(undef, fLen)\n",
    "read!(file, net)\n",
    "close(file)"
   ]
  },
  {
   "cell_type": "code",
   "execution_count": 3,
   "metadata": {},
   "outputs": [
    {
     "data": {
      "text/plain": [
       "41652229-element Array{twitterID,1}:\n",
       " twitterID(0x0000000c, 0x000f4665, 0x0000000000000000, 0x0000024a, 0x0000000000000000)\n",
       " twitterID(0x0000000d, 0x000fbe96, 0x00000000003d199c, 0x000000f3, 0x0000000000000930)\n",
       " twitterID(0x0000000e, 0x00002268, 0x00000000007c13fc, 0x0000006a, 0x0000000000000d04)\n",
       " twitterID(0x0000000f, 0x00003806, 0x00000000007c9da4, 0x00000113, 0x0000000000000eb4)\n",
       " twitterID(0x00000010, 0x000000da, 0x00000000007d7dc4, 0x00000111, 0x0000000000001308)\n",
       " twitterID(0x00000011, 0x00001b24, 0x00000000007d8134, 0x000000c0, 0x0000000000001754)\n",
       " twitterID(0x00000012, 0x00001984, 0x00000000007dedcc, 0x00000057, 0x0000000000001a5c)\n",
       " twitterID(0x00000014, 0x0012855b, 0x00000000007e53e4, 0x00000390, 0x0000000000001bc0)\n",
       " twitterID(0x00000015, 0x00002343, 0x0000000000c86958, 0x000001ef, 0x0000000000002a08)\n",
       " twitterID(0x00000016, 0x00000ecf, 0x0000000000c8f66c, 0x00000110, 0x00000000000031cc)\n",
       " twitterID(0x00000017, 0x00000a43, 0x0000000000c931b0, 0x00000049, 0x0000000000003614)\n",
       " twitterID(0x00000018, 0x00000029, 0x0000000000c95ac4, 0x00000038, 0x0000000000003740)\n",
       " twitterID(0x0000001f, 0x000009bd, 0x0000000000c95b70, 0x00000063, 0x0000000000003828)\n",
       " ⋮                                                                                    \n",
       " twitterID(0x03ab9af2, 0x00000001, 0x00000001713550e4, 0x00000010, 0x000000016f1a7840)\n",
       " twitterID(0x03ab9b03, 0x00000001, 0x00000001713550f0, 0x00000013, 0x000000016f1a7888)\n",
       " twitterID(0x03ab9b15, 0x00000001, 0x00000001713550fc, 0x00000013, 0x000000016f1a78dc)\n",
       " twitterID(0x03ab9b1a, 0x00000001, 0x0000000171355108, 0x00000014, 0x000000016f1a7930)\n",
       " twitterID(0x03ab9b35, 0x00000001, 0x0000000171355114, 0x00000000, 0x0000000000000000)\n",
       " twitterID(0x03ab9b38, 0x00000001, 0x0000000171355120, 0x00000013, 0x000000016f1a7988)\n",
       " twitterID(0x03ab9b3c, 0x00000001, 0x000000017135512c, 0x00000013, 0x000000016f1a79dc)\n",
       " twitterID(0x03ab9b67, 0x00000001, 0x0000000171355138, 0x00000014, 0x000000016f1a7a30)\n",
       " twitterID(0x03ab9b7c, 0x00000001, 0x0000000171355144, 0x00000012, 0x000000016f1a7a88)\n",
       " twitterID(0x03ab9b86, 0x00000001, 0x0000000171355150, 0x00000011, 0x000000016f1a7ad8)\n",
       " twitterID(0x03ab9b90, 0x00000001, 0x000000017135515c, 0x00000013, 0x000000016f1a7b24)\n",
       " twitterID(0x03ab9bba, 0x00000001, 0x0000000171355168, 0x00000007, 0x000000016f1a7b78)"
      ]
     },
     "execution_count": 3,
     "metadata": {},
     "output_type": "execute_result"
    }
   ],
   "source": [
    "users = readIndexFile()"
   ]
  },
  {
   "cell_type": "code",
   "execution_count": 4,
   "metadata": {},
   "outputs": [
    {
     "data": {
      "text/plain": [
       "41652229-element Array{Float64,1}:\n",
       " 0.0001476702134179111 \n",
       " 0.00014211711569751478\n",
       " 9.176916479382997e-5  \n",
       " 9.33659453608969e-5   \n",
       " 9.818948853977618e-6  \n",
       " 8.506990866970186e-5  \n",
       " 1.833599828653682e-5  \n",
       " 0.00024847861689739385\n",
       " 0.0001114778796573726 \n",
       " 0.00011098835981521053\n",
       " 0.00023327776974107998\n",
       " 0.00014694535029394055\n",
       " 0.00021330114716065174\n",
       " ⋮                     \n",
       " 1.0794946275995415e-5 \n",
       " 4.263613823846949e-5  \n",
       " 0.00015341807474176752\n",
       " 0.00010801908569902335\n",
       " 0.00020801457565902483\n",
       " 0.0002020592039711966 \n",
       " 3.032812940500666e-5  \n",
       " 5.437567414030955e-5  \n",
       " 8.61632039225427e-5   \n",
       " 4.607285825940785e-5  \n",
       " 0.0001292675915848052 \n",
       " 0.00019543541299449046"
      ]
     },
     "execution_count": 4,
     "metadata": {},
     "output_type": "execute_result"
    }
   ],
   "source": [
    "tempV = randV(length(users))"
   ]
  },
  {
   "cell_type": "code",
   "execution_count": 18,
   "metadata": {},
   "outputs": [
    {
     "data": {
      "text/plain": [
       "1000000-element Array{Float64,1}:\n",
       " 0.33641920893419536  \n",
       " 0.12520289825807984  \n",
       " 0.08916310317343856  \n",
       " 0.20652092418418708  \n",
       " 0.1848707108184599   \n",
       " 0.11536904553971339  \n",
       " 0.04871185797254995  \n",
       " 0.522459305853083    \n",
       " 0.2596148652101318   \n",
       " 0.1750385324685739   \n",
       " 0.04508782720894898  \n",
       " 0.04431974390048382  \n",
       " 0.059424505257396856 \n",
       " ⋮                    \n",
       " 0.002138951085226221 \n",
       " 0.007155114453391465 \n",
       " 0.013203975069463058 \n",
       " 0.026186165362282292 \n",
       " 0.0023266654113015504\n",
       " 0.010172827421694225 \n",
       " 0.0014380228174817261\n",
       " 0.012923361348483368 \n",
       " 0.0048604123429012115\n",
       " 0.005775873909775037 \n",
       " 0.003616692947162377 \n",
       " 0.0003092982794079142"
      ]
     },
     "execution_count": 18,
     "metadata": {},
     "output_type": "execute_result"
    }
   ],
   "source": [
    "testS = sparseAdjacencyMultiplyMV(net, tempV)"
   ]
  },
  {
   "cell_type": "code",
   "execution_count": 5,
   "metadata": {},
   "outputs": [
    {
     "data": {
      "text/plain": [
       "41652229-element Array{Float64,1}:\n",
       " 0.07825441743114847  \n",
       " 0.03262079186731961  \n",
       " 0.013577020109224595 \n",
       " 0.03590862327623722  \n",
       " 0.037875414793254514 \n",
       " 0.025118912874395254 \n",
       " 0.011014541973376533 \n",
       " 0.12054265382627445  \n",
       " 0.06763784287774077  \n",
       " 0.034843638275089135 \n",
       " 0.011016065166211732 \n",
       " 0.007282139030409036 \n",
       " 0.014257929332248764 \n",
       " ⋮                    \n",
       " 0.0022484282526591625\n",
       " 0.0026129785441559835\n",
       " 0.002997844461236223 \n",
       " 0.0025881253627281844\n",
       " 0.0                  \n",
       " 0.002454654966554742 \n",
       " 0.0025663697787358685\n",
       " 0.0023155870334079266\n",
       " 0.002236820840555125 \n",
       " 0.0027240149737586296\n",
       " 0.00249403486694426  \n",
       " 0.0025260206049143186"
      ]
     },
     "execution_count": 5,
     "metadata": {},
     "output_type": "execute_result"
    }
   ],
   "source": [
    "testP = parallelSparseAdjacencyMultiplyMV(\"data/friends_small_indexed\", tempV)"
   ]
  },
  {
   "cell_type": "code",
   "execution_count": 19,
   "metadata": {},
   "outputs": [
    {
     "name": "stdout",
     "output_type": "stream",
     "text": [
      "0\n"
     ]
    }
   ],
   "source": [
    "numFalse = 0::Int64\n",
    "for k = 1:50\n",
    "    if testS[k] != testP[k]\n",
    "        numFalse += 1\n",
    "    end\n",
    "end\n",
    "println(numFalse)"
   ]
  },
  {
   "cell_type": "code",
   "execution_count": 63,
   "metadata": {},
   "outputs": [
    {
     "data": {
      "text/plain": [
       "50-element Array{Float64,1}:\n",
       " 0.4188265509480065  \n",
       " 0.2327264936664281  \n",
       " 0.34240468192060314 \n",
       " 0.3955530089599222  \n",
       " 0.38346307322592926 \n",
       " 0.3299239970055654  \n",
       " 0.3214798514646394  \n",
       " 0.33813030272082845 \n",
       " 0.2727561460008604  \n",
       " 0.24849438570640872 \n",
       " 1.2402116443985614  \n",
       " 0.14496297399881888 \n",
       " 0.3189916721196463  \n",
       " ⋮                   \n",
       " 0.13663072609156243 \n",
       " 0.040419976715706706\n",
       " 0.024384107776130197\n",
       " 0.03075358260822727 \n",
       " 0.034575309277658325\n",
       " 0.016925908217170396\n",
       " 0.13518698232235157 \n",
       " 0.06949750545039313 \n",
       " 0.09756675693673594 \n",
       " 0.043233051614944305\n",
       " 0.07380846999918664 \n",
       " 0.020795764159251235"
      ]
     },
     "execution_count": 63,
     "metadata": {},
     "output_type": "execute_result"
    }
   ],
   "source": [
    "cVec"
   ]
  },
  {
   "cell_type": "code",
   "execution_count": 61,
   "metadata": {},
   "outputs": [
    {
     "data": {
      "text/plain": [
       "1.0"
      ]
     },
     "execution_count": 61,
     "metadata": {},
     "output_type": "execute_result"
    }
   ],
   "source": [
    "for k = 1:50\n",
    "    temp[k] = 0.0\n",
    "end\n",
    "temp[49] = 1.0"
   ]
  },
  {
   "cell_type": "code",
   "execution_count": 31,
   "metadata": {},
   "outputs": [
    {
     "data": {
      "text/plain": [
       "50-element Array{Float64,1}:\n",
       " -0.13113131655065138  \n",
       " -0.08841491309783461  \n",
       "  0.062031343357063    \n",
       " -0.009952497440777128 \n",
       "  0.04078494924586531  \n",
       " -0.07590036115299481  \n",
       "  0.051528799310269    \n",
       "  0.06652415578502353  \n",
       " -0.10331990945159332  \n",
       " -0.01947509314341126  \n",
       " -0.06436839849678234  \n",
       " -0.005965964005273587 \n",
       "  0.06950846983440631  \n",
       "  ⋮                    \n",
       "  0.0009352816368009554\n",
       "  0.18597001776225     \n",
       "  0.02667961371468056  \n",
       "  0.1801012960420956   \n",
       "  0.11385598486413873  \n",
       "  0.09819799112940848  \n",
       " -0.050079454929065036 \n",
       " -0.040987496712399235 \n",
       "  0.11339169179460738  \n",
       "  0.09899210342399235  \n",
       "  0.161294209261198    \n",
       "  0.14389114918178464  "
      ]
     },
     "execution_count": 31,
     "metadata": {},
     "output_type": "execute_result"
    }
   ],
   "source": [
    "temp"
   ]
  },
  {
   "cell_type": "code",
   "execution_count": 17,
   "metadata": {},
   "outputs": [
    {
     "data": {
      "text/plain": [
       "1.05"
      ]
     },
     "execution_count": 17,
     "metadata": {},
     "output_type": "execute_result"
    }
   ],
   "source": [
    ".07*15"
   ]
  },
  {
   "cell_type": "code",
   "execution_count": 9,
   "metadata": {},
   "outputs": [
    {
     "data": {
      "text/plain": [
       "1000000-element Array{Float64,1}:\n",
       " 0.0015959486547092129 \n",
       " 0.0004981967199693541 \n",
       " 0.0004887446383141113 \n",
       " 0.00010243479279594214\n",
       " 0.0007613162738317966 \n",
       " 0.0010041903921251573 \n",
       " 0.00018622356946049022\n",
       " 0.0009665422160977886 \n",
       " 0.0003779028839014108 \n",
       " 0.0015796276355182224 \n",
       " 0.0010929087893410024 \n",
       " 0.0013895527295059902 \n",
       " 0.0015139984679756555 \n",
       " ⋮                     \n",
       " 0.0005571376977026988 \n",
       " 0.0009656697220377435 \n",
       " 0.000632194763788465  \n",
       " 0.0010547791322293243 \n",
       " 0.0014566434090950025 \n",
       " 0.0008288408075230372 \n",
       " 0.0005200692812308504 \n",
       " 0.00042672317474899007\n",
       " 0.0006246449399171918 \n",
       " 0.001337193594575525  \n",
       " 0.0010337117076394068 \n",
       " 0.000506058490979324  "
      ]
     },
     "execution_count": 9,
     "metadata": {},
     "output_type": "execute_result"
    }
   ],
   "source": [
    "temp[:,1] = testVec"
   ]
  },
  {
   "cell_type": "code",
   "execution_count": 11,
   "metadata": {},
   "outputs": [
    {
     "data": {
      "text/plain": [
       "1000000-element Array{Float64,1}:\n",
       " 0.3465393700225263   \n",
       " 0.12647072747783555  \n",
       " 0.0986238168254839   \n",
       " 0.1930524885150142   \n",
       " 0.18066923801775894  \n",
       " 0.10773551076299445  \n",
       " 0.04484642847494889  \n",
       " 0.5257823546756734   \n",
       " 0.25001922994031495  \n",
       " 0.16931802651153313  \n",
       " 0.04933177207334571  \n",
       " 0.03790875926317817  \n",
       " 0.060882717942311614 \n",
       " ⋮                    \n",
       " 0.0032086155583271195\n",
       " 0.008050454259498931 \n",
       " 0.006402240242555252 \n",
       " 0.023741777733234277 \n",
       " 0.0003515347971505127\n",
       " 0.010527125577629144 \n",
       " 6.388194155696666e-5 \n",
       " 0.01268605208411972  \n",
       " 0.002543807730505744 \n",
       " 0.0062140364508322995\n",
       " 0.0021832048724085853\n",
       " 0.0002723674897615393"
      ]
     },
     "execution_count": 11,
     "metadata": {},
     "output_type": "execute_result"
    }
   ],
   "source": [
    "temp[:,2] = sparseAdjacencyMultiplyMV(net, testVec)"
   ]
  },
  {
   "cell_type": "code",
   "execution_count": 23,
   "metadata": {},
   "outputs": [],
   "source": [
    "buildSubNetwork(\"data/friends_test\", \"data/supersmall_test\", 1, 50)"
   ]
  },
  {
   "cell_type": "code",
   "execution_count": 23,
   "metadata": {},
   "outputs": [
    {
     "data": {
      "text/plain": [
       "sparseArnoldiIterate (generic function with 1 method)"
      ]
     },
     "execution_count": 23,
     "metadata": {},
     "output_type": "execute_result"
    }
   ],
   "source": [
    "function sparseArnoldiIterate(adjacency::Vector{UInt32}, vecLength::Int64, numVecs::Int64)\n",
    "    out = Array{Float64, 2}(undef, vecLength, numVecs)\n",
    "    for k = 1:vecLength\n",
    "        out[k,numVecs] = rand()\n",
    "    end\n",
    "    for i = 1:numVecs-1\n",
    "        out[:,numVecs-i] = normalizeV(sparseAdjacencyMultiplyMV(adjacency, out[:, numVecs-i+1]))\n",
    "    end\n",
    "    for m = 2:numVecs\n",
    "        for n = 1:m\n",
    "            out[:,m] = addVV(1, out[:,m], -dotVV(out[:,m], out[:,n]), out[:,n])\n",
    "        end\n",
    "        out[:,m] = normalizeV(out[:,m])\n",
    "    end\n",
    "    return out\n",
    "end"
   ]
  },
  {
   "cell_type": "code",
   "execution_count": 17,
   "metadata": {},
   "outputs": [
    {
     "data": {
      "text/plain": [
       "([0.000976643 0.0021265 … 0.00164556 -0.00131031; 0.000426346 0.00147029 … 0.00125632 -0.000642841; … ; 6.48292e-5 0.000210162 … -0.000190304 -0.000119447; 7.393e-9 8.6654e-8 … 5.75399e-6 0.00160385], [833.132, -50.193, 105.354, 212.381, -123.138, 332.609, -35.6331, 54.3018, -8.56898, -0.0902457])"
      ]
     },
     "execution_count": 17,
     "metadata": {},
     "output_type": "execute_result"
    }
   ],
   "source": [
    "out, eigs = sparseArnoldiIterate(net, 1000000, 10)"
   ]
  },
  {
   "cell_type": "code",
   "execution_count": 18,
   "metadata": {},
   "outputs": [
    {
     "data": {
      "text/plain": [
       "10-element Array{Float64,1}:\n",
       "  833.1317679723005    \n",
       "  -50.193022692434575  \n",
       "  105.3542426810932    \n",
       "  212.38104033767348   \n",
       " -123.13755721154455   \n",
       "  332.6088405624878    \n",
       "  -35.63312671369444   \n",
       "   54.30177787387584   \n",
       "   -8.568980318219314  \n",
       "   -0.09024565743257543"
      ]
     },
     "execution_count": 18,
     "metadata": {},
     "output_type": "execute_result"
    }
   ],
   "source": [
    "eigs"
   ]
  },
  {
   "cell_type": "code",
   "execution_count": 43,
   "metadata": {},
   "outputs": [
    {
     "data": {
      "text/plain": [
       "sparsePowerIterate (generic function with 1 method)"
      ]
     },
     "execution_count": 43,
     "metadata": {},
     "output_type": "execute_result"
    }
   ],
   "source": [
    "function sparsePowerIterate(adjacency::Vector{UInt32}, vecLength::Int64, epsilon)\n",
    "    out = Vector{Float64}(undef, vecLength)\n",
    "    for k = 1:vecLength\n",
    "        out[k] = rand()\n",
    "    end\n",
    "    out = normalizeV(out)\n",
    "    epsilon = abs(epsilon)\n",
    "    e = 10.0*epsilon\n",
    "    oldL = 10000.0\n",
    "    lambda = 0.0\n",
    "    while e > epsilon\n",
    "        old = out\n",
    "        out = sparseAdjacencyMultiplyMV(adjacency, old)\n",
    "        lambda = dotVV(old, out)\n",
    "        e = abs((lambda-oldL)/(0.5*(lambda+oldL) + .00000000001*rand()))\n",
    "        oldL = lambda\n",
    "        out = normalizeV(out)\n",
    "    end\n",
    "    return out, lambda\n",
    "end"
   ]
  },
  {
   "cell_type": "code",
   "execution_count": 48,
   "metadata": {},
   "outputs": [
    {
     "data": {
      "text/plain": [
       "([0.000983526, 0.000428206, 0.0001492, 0.00037672, 0.000132909, 0.000232342, 8.15031e-5, 0.00117985, 0.000688853, 0.000271612  …  3.15091e-5, 0.000127637, 4.01309e-5, 0.00012594, 2.58765e-8, 4.34376e-6, 0.000105441, 6.05605e-5, 6.44586e-5, 7.67043e-9], 832.8124212362585)"
      ]
     },
     "execution_count": 48,
     "metadata": {},
     "output_type": "execute_result"
    }
   ],
   "source": [
    "eigV, lambda = sparsePowerIterate(net, 1000000, 0.0005)"
   ]
  },
  {
   "cell_type": "code",
   "execution_count": 46,
   "metadata": {},
   "outputs": [
    {
     "data": {
      "text/plain": [
       "randV (generic function with 1 method)"
      ]
     },
     "execution_count": 46,
     "metadata": {},
     "output_type": "execute_result"
    }
   ],
   "source": [
    "function randV(vecLength::Int64)\n",
    "    out = Vector{Float64}(undef, vecLength)\n",
    "    for k = 1:vecLength\n",
    "        out[k] = rand()\n",
    "    end\n",
    "    return normalizeV(out)\n",
    "end"
   ]
  },
  {
   "cell_type": "code",
   "execution_count": 72,
   "metadata": {},
   "outputs": [
    {
     "name": "stdout",
     "output_type": "stream",
     "text": [
      "-2.613393818188224e-14\n"
     ]
    }
   ],
   "source": [
    "t = randV(1000000)\n",
    "t = normalizeV(addVV(1, t, -dotVV(t, eigV), eigV))\n",
    "println(dotVV(t,eigV))"
   ]
  },
  {
   "cell_type": "code",
   "execution_count": 73,
   "metadata": {},
   "outputs": [
    {
     "data": {
      "text/plain": [
       "1000000-element Array{Float64,1}:\n",
       "  0.24740009581378888   \n",
       "  0.08568161841861827   \n",
       "  0.07745917571974952   \n",
       "  0.14369628270944088   \n",
       "  0.17741804101322264   \n",
       "  0.08442333430429075   \n",
       "  0.04143369830231565   \n",
       "  0.43748438044127846   \n",
       "  0.16680377699059226   \n",
       "  0.13757690577401493   \n",
       "  0.03319840720214212   \n",
       "  0.03806731143622319   \n",
       "  0.034925179616872484  \n",
       "  ⋮                     \n",
       " -0.00020349269894338255\n",
       "  0.00715411163130895   \n",
       "  0.008500214535787693  \n",
       "  0.007071400194904826  \n",
       " -0.0031667835978972823 \n",
       " -0.008618387421257154  \n",
       "  0.0004742843321668175 \n",
       "  0.008635006037503378  \n",
       " -0.010158347234689514  \n",
       " -0.001141038435426121  \n",
       " -0.005130178348509456  \n",
       "  0.0008370112982705292 "
      ]
     },
     "execution_count": 73,
     "metadata": {},
     "output_type": "execute_result"
    }
   ],
   "source": [
    "sparseAdjacencyMultiplyMV(net, t)"
   ]
  },
  {
   "cell_type": "code",
   "execution_count": 7,
   "metadata": {},
   "outputs": [],
   "source": [
    "x = Vector{UInt32}(undef, fLen)\n",
    "seekstart(file)\n",
    "read!(file, x)\n",
    "close(file)"
   ]
  },
  {
   "cell_type": "code",
   "execution_count": 7,
   "metadata": {},
   "outputs": [
    {
     "data": {
      "text/plain": [
       "1000000-element Array{Float64,1}:\n",
       " 0.7472613912504447 \n",
       " 0.7734244314984384 \n",
       " 0.38406015886924383\n",
       " 0.6371066679109467 \n",
       " 0.38320285987821845\n",
       " 0.9411984925750094 \n",
       " 0.5806627544766021 \n",
       " 0.15779687868502879\n",
       " 0.41335339503891944\n",
       " 0.5998178658426825 \n",
       " 0.9171882679236778 \n",
       " 0.5544713728612203 \n",
       " 0.09148564996379172\n",
       " ⋮                  \n",
       " 0.9502948537734268 \n",
       " 0.09591517006035577\n",
       " 0.365508516538505  \n",
       " 0.2944775319505222 \n",
       " 0.38275788626986573\n",
       " 0.40702678807755643\n",
       " 0.15649631083920124\n",
       " 0.936355610571693  \n",
       " 0.6967431422159633 \n",
       " 0.5387857883049423 \n",
       " 0.32757932296005965\n",
       " 0.8256076631889351 "
      ]
     },
     "execution_count": 7,
     "metadata": {},
     "output_type": "execute_result"
    }
   ],
   "source": [
    "testVec"
   ]
  },
  {
   "cell_type": "code",
   "execution_count": 11,
   "metadata": {},
   "outputs": [
    {
     "data": {
      "text/plain": [
       "String"
      ]
     },
     "execution_count": 11,
     "metadata": {},
     "output_type": "execute_result"
    }
   ],
   "source": [
    "typeof(\"Hello\")"
   ]
  },
  {
   "cell_type": "code",
   "execution_count": null,
   "metadata": {},
   "outputs": [],
   "source": [
    "file = open(\"data/friends_small_indexed\", \"r\")\n",
    "max = 0\n",
    "while !eof(file)\n",
    "    x = read(file, UInt32)\n",
    "    if x > max\n",
    "        max = x\n",
    "    end\n",
    "end\n",
    "close(file)\n",
    "println(string(max, base=10)"
   ]
  },
  {
   "cell_type": "code",
   "execution_count": 17,
   "metadata": {},
   "outputs": [
    {
     "data": {
      "text/plain": [
       "testFunc2 (generic function with 1 method)"
      ]
     },
     "execution_count": 17,
     "metadata": {},
     "output_type": "execute_result"
    }
   ],
   "source": [
    "function testFunc2(a::Int64)\n",
    "    return a*a\n",
    "end"
   ]
  },
  {
   "cell_type": "code",
   "execution_count": 18,
   "metadata": {},
   "outputs": [
    {
     "ename": "UndefVarError",
     "evalue": "UndefVarError: testFunc2! not defined",
     "output_type": "error",
     "traceback": [
      "UndefVarError: testFunc2! not defined",
      "",
      "Stacktrace:",
      " [1] top-level scope at In[18]:2"
     ]
    }
   ],
   "source": [
    "p = 5\n",
    "testFunc2!(p)"
   ]
  },
  {
   "cell_type": "code",
   "execution_count": 16,
   "metadata": {},
   "outputs": [
    {
     "data": {
      "text/plain": [
       "5"
      ]
     },
     "execution_count": 16,
     "metadata": {},
     "output_type": "execute_result"
    }
   ],
   "source": [
    "p"
   ]
  },
  {
   "cell_type": "code",
   "execution_count": 75,
   "metadata": {},
   "outputs": [
    {
     "data": {
      "text/plain": [
       "(2, 4)"
      ]
     },
     "execution_count": 75,
     "metadata": {},
     "output_type": "execute_result"
    }
   ],
   "source": [
    "size(Array{Float64,2}(undef, 2,4))"
   ]
  },
  {
   "cell_type": "code",
   "execution_count": null,
   "metadata": {},
   "outputs": [],
   "source": []
  }
 ],
 "metadata": {
  "kernelspec": {
   "display_name": "Julia 1.1.1",
   "language": "julia",
   "name": "julia-1.1"
  },
  "language_info": {
   "file_extension": ".jl",
   "mimetype": "application/julia",
   "name": "julia",
   "version": "1.1.1"
  }
 },
 "nbformat": 4,
 "nbformat_minor": 4
}
