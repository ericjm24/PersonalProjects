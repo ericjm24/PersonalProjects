{
 "cells": [
  {
   "cell_type": "code",
   "execution_count": 1,
   "metadata": {},
   "outputs": [
    {
     "data": {
      "text/plain": [
       "buildSubNetwork (generic function with 1 method)"
      ]
     },
     "execution_count": 1,
     "metadata": {},
     "output_type": "execute_result"
    }
   ],
   "source": [
    "include(\"twitterJL.jl\")"
   ]
  },
  {
   "cell_type": "code",
   "execution_count": 2,
   "metadata": {},
   "outputs": [],
   "source": [
    "filename = \"data/friends_test\"\n",
    "file = open(filename)\n",
    "seekend(file)\n",
    "fLen = Int64(position(file)/4)\n",
    "seekstart(file)\n",
    "net = Vector{UInt32}(undef, fLen)\n",
    "read!(file, net)\n",
    "close(file)"
   ]
  },
  {
   "cell_type": "code",
   "execution_count": 3,
   "metadata": {},
   "outputs": [
    {
     "data": {
      "text/plain": [
       "1000000-element Array{Float64,1}:\n",
       " 0.0\n",
       " 0.0\n",
       " 0.0\n",
       " 0.0\n",
       " 1.0\n",
       " 0.0\n",
       " 0.0\n",
       " 0.0\n",
       " 0.0\n",
       " 0.0\n",
       " 0.0\n",
       " 0.0\n",
       " 0.0\n",
       " ⋮  \n",
       " 0.0\n",
       " 0.0\n",
       " 0.0\n",
       " 0.0\n",
       " 0.0\n",
       " 0.0\n",
       " 0.0\n",
       " 0.0\n",
       " 0.0\n",
       " 0.0\n",
       " 0.0\n",
       " 0.0"
      ]
     },
     "execution_count": 3,
     "metadata": {},
     "output_type": "execute_result"
    }
   ],
   "source": [
    "user1 = userIndexToVector(5, 1000000)"
   ]
  },
  {
   "cell_type": "code",
   "execution_count": 4,
   "metadata": {},
   "outputs": [
    {
     "data": {
      "text/plain": [
       "1000000-element Array{Float64,1}:\n",
       " 0.0008276855754518466\n",
       " 0.0007811728682010411\n",
       " 0.0009136583210201255\n",
       " 0.0011005627111193338\n",
       " 0.0011531195949160801\n",
       " 0.0009477748800480211\n",
       " 0.0010987142318232388\n",
       " 0.0010670963168435022\n",
       " 0.0009499795449462418\n",
       " 0.0011625591579846632\n",
       " 0.0008400892797532295\n",
       " 0.001028254407485612 \n",
       " 0.0010200270878327174\n",
       " ⋮                    \n",
       " 0.0                  \n",
       " 0.0                  \n",
       " 0.0                  \n",
       " 0.0                  \n",
       " 0.0                  \n",
       " 0.0                  \n",
       " 0.0                  \n",
       " 0.0                  \n",
       " 0.0                  \n",
       " 0.0                  \n",
       " 0.0                  \n",
       " 0.0                  "
      ]
     },
     "execution_count": 4,
     "metadata": {},
     "output_type": "execute_result"
    }
   ],
   "source": [
    "temp = sparseTransitionMultiplyMV(net, user1, 0.3)"
   ]
  },
  {
   "cell_type": "code",
   "execution_count": 5,
   "metadata": {},
   "outputs": [],
   "source": [
    "for k in 1:100\n",
    "    temp = normalizeV(sparseTransitionMultiplyMV(net, temp, 0.3))\n",
    "end"
   ]
  },
  {
   "cell_type": "code",
   "execution_count": 6,
   "metadata": {},
   "outputs": [
    {
     "data": {
      "text/plain": [
       "1000000-element Array{Float64,1}:\n",
       " 0.14285714285714282\n",
       " 0.1428571428571428 \n",
       " 0.1428571428571428 \n",
       " 0.1428571428571428 \n",
       " 0.1428571428571428 \n",
       " 0.14285714285714282\n",
       " 0.1428571428571428 \n",
       " 0.1428571428571428 \n",
       " 0.1428571428571428 \n",
       " 0.1428571428571428 \n",
       " 0.1428571428571428 \n",
       " 0.1428571428571428 \n",
       " 0.1428571428571428 \n",
       " ⋮                  \n",
       " 0.0                \n",
       " 0.0                \n",
       " 0.0                \n",
       " 0.0                \n",
       " 0.0                \n",
       " 0.0                \n",
       " 0.0                \n",
       " 0.0                \n",
       " 0.0                \n",
       " 0.0                \n",
       " 0.0                \n",
       " 0.0                "
      ]
     },
     "execution_count": 6,
     "metadata": {},
     "output_type": "execute_result"
    }
   ],
   "source": [
    "temp = sparseTransitionMultiplyMV(net, temp, 0.3)"
   ]
  },
  {
   "cell_type": "code",
   "execution_count": 19,
   "metadata": {},
   "outputs": [
    {
     "name": "stdout",
     "output_type": "stream",
     "text": [
      "1:\n",
      "0.9999994209434474\n",
      "2: \n",
      "0.7907247166443386\n",
      "3: \n",
      "0.7614346972196747\n",
      "4: \n",
      "0.7019033640535114\n",
      "5: \n",
      "0.6882276124665156\n",
      "6: \n",
      "0.6766771966352991\n",
      "7: \n",
      "0.6490680136772407\n"
     ]
    },
    {
     "data": {
      "text/plain": [
       "([0.142866 0.0797223 … 0.0219285 0.0454231; 0.142857 -0.0460991 … 0.0952662 -0.0133093; … ; 0.142855 -0.0787792 … -0.411133 0.204717; 0.142863 -0.00104314 … -0.394584 -0.533102], [0.999999, 0.790725, 0.761435, 0.701903, 0.688228, 0.676677, 0.649068])"
      ]
     },
     "execution_count": 19,
     "metadata": {},
     "output_type": "execute_result"
    }
   ],
   "source": [
    "out = sparseTransitionPowerIterate_wGS(net, 50, 7, 0.5, 0.00005)"
   ]
  },
  {
   "cell_type": "code",
   "execution_count": null,
   "metadata": {},
   "outputs": [],
   "source": [
    "out[1]"
   ]
  },
  {
   "cell_type": "code",
   "execution_count": 36,
   "metadata": {},
   "outputs": [
    {
     "data": {
      "text/plain": [
       "0.0012083438570891587"
      ]
     },
     "execution_count": 36,
     "metadata": {},
     "output_type": "execute_result"
    }
   ],
   "source": [
    "1/sqrt(k)"
   ]
  },
  {
   "cell_type": "code",
   "execution_count": 61,
   "metadata": {},
   "outputs": [
    {
     "data": {
      "text/plain": [
       "1.0"
      ]
     },
     "execution_count": 61,
     "metadata": {},
     "output_type": "execute_result"
    }
   ],
   "source": [
    "for k = 1:50\n",
    "    temp[k] = 0.0\n",
    "end\n",
    "temp[49] = 1.0"
   ]
  },
  {
   "cell_type": "code",
   "execution_count": 21,
   "metadata": {},
   "outputs": [
    {
     "data": {
      "text/plain": [
       "1000000-element Array{Float64,1}:\n",
       " 0.0\n",
       " 0.0\n",
       " 0.0\n",
       " 0.0\n",
       " 0.0\n",
       " 0.0\n",
       " 0.0\n",
       " 0.0\n",
       " 0.0\n",
       " 0.0\n",
       " 0.0\n",
       " 0.0\n",
       " 0.0\n",
       " ⋮  \n",
       " 0.0\n",
       " 0.0\n",
       " 0.0\n",
       " 0.0\n",
       " 0.0\n",
       " 0.0\n",
       " 0.0\n",
       " 0.0\n",
       " 0.0\n",
       " 0.0\n",
       " 0.0\n",
       " 0.0"
      ]
     },
     "execution_count": 21,
     "metadata": {},
     "output_type": "execute_result"
    }
   ],
   "source": [
    "zeros(length(temp))"
   ]
  },
  {
   "cell_type": "code",
   "execution_count": 17,
   "metadata": {},
   "outputs": [
    {
     "data": {
      "text/plain": [
       "1.05"
      ]
     },
     "execution_count": 17,
     "metadata": {},
     "output_type": "execute_result"
    }
   ],
   "source": [
    ".07*15"
   ]
  },
  {
   "cell_type": "code",
   "execution_count": 9,
   "metadata": {},
   "outputs": [
    {
     "data": {
      "text/plain": [
       "1000000-element Array{Float64,1}:\n",
       " 0.0015959486547092129 \n",
       " 0.0004981967199693541 \n",
       " 0.0004887446383141113 \n",
       " 0.00010243479279594214\n",
       " 0.0007613162738317966 \n",
       " 0.0010041903921251573 \n",
       " 0.00018622356946049022\n",
       " 0.0009665422160977886 \n",
       " 0.0003779028839014108 \n",
       " 0.0015796276355182224 \n",
       " 0.0010929087893410024 \n",
       " 0.0013895527295059902 \n",
       " 0.0015139984679756555 \n",
       " ⋮                     \n",
       " 0.0005571376977026988 \n",
       " 0.0009656697220377435 \n",
       " 0.000632194763788465  \n",
       " 0.0010547791322293243 \n",
       " 0.0014566434090950025 \n",
       " 0.0008288408075230372 \n",
       " 0.0005200692812308504 \n",
       " 0.00042672317474899007\n",
       " 0.0006246449399171918 \n",
       " 0.001337193594575525  \n",
       " 0.0010337117076394068 \n",
       " 0.000506058490979324  "
      ]
     },
     "execution_count": 9,
     "metadata": {},
     "output_type": "execute_result"
    }
   ],
   "source": [
    "temp[:,1] = testVec"
   ]
  },
  {
   "cell_type": "code",
   "execution_count": 11,
   "metadata": {},
   "outputs": [
    {
     "data": {
      "text/plain": [
       "1000000-element Array{Float64,1}:\n",
       " 0.3465393700225263   \n",
       " 0.12647072747783555  \n",
       " 0.0986238168254839   \n",
       " 0.1930524885150142   \n",
       " 0.18066923801775894  \n",
       " 0.10773551076299445  \n",
       " 0.04484642847494889  \n",
       " 0.5257823546756734   \n",
       " 0.25001922994031495  \n",
       " 0.16931802651153313  \n",
       " 0.04933177207334571  \n",
       " 0.03790875926317817  \n",
       " 0.060882717942311614 \n",
       " ⋮                    \n",
       " 0.0032086155583271195\n",
       " 0.008050454259498931 \n",
       " 0.006402240242555252 \n",
       " 0.023741777733234277 \n",
       " 0.0003515347971505127\n",
       " 0.010527125577629144 \n",
       " 6.388194155696666e-5 \n",
       " 0.01268605208411972  \n",
       " 0.002543807730505744 \n",
       " 0.0062140364508322995\n",
       " 0.0021832048724085853\n",
       " 0.0002723674897615393"
      ]
     },
     "execution_count": 11,
     "metadata": {},
     "output_type": "execute_result"
    }
   ],
   "source": [
    "temp[:,2] = sparseAdjacencyMultiplyMV(net, testVec)"
   ]
  },
  {
   "cell_type": "code",
   "execution_count": 7,
   "metadata": {},
   "outputs": [
    {
     "data": {
      "text/plain": [
       "1000000-element Array{Float64,1}:\n",
       " 0.05391505632522858  \n",
       " 1.0325912962635582   \n",
       " 1.035914010503722    \n",
       " 1.0361046950216801   \n",
       " 1.0334209570855952   \n",
       " 1.0258290595067188   \n",
       " 1.0366458639091045   \n",
       " 1.025104861559193    \n",
       " 1.0202089250850865   \n",
       " 1.0114288548188544   \n",
       " 1.0326965122980776   \n",
       " 1.0181159384089098   \n",
       " 1.0280868086122046   \n",
       " ⋮                    \n",
       " 0.0007556069911020016\n",
       " 1.4e-6               \n",
       " 0.010732565909217279 \n",
       " 0.002546570505369535 \n",
       " 0.030930877906054813 \n",
       " 0.016985010629878016 \n",
       " 0.06323782966278116  \n",
       " 0.004588840569724991 \n",
       " 0.01527028160708594  \n",
       " 0.0005544251948777817\n",
       " 0.015573022454542848 \n",
       " 0.0006049862772295014"
      ]
     },
     "execution_count": 7,
     "metadata": {},
     "output_type": "execute_result"
    }
   ],
   "source": [
    "calculateInfluenceVector_v2(net, userIndexToVector(1, 1000000), 0.0, 0.06, 0.000005, 10000)"
   ]
  },
  {
   "cell_type": "code",
   "execution_count": 23,
   "metadata": {},
   "outputs": [
    {
     "data": {
      "text/plain": [
       "sparseArnoldiIterate (generic function with 1 method)"
      ]
     },
     "execution_count": 23,
     "metadata": {},
     "output_type": "execute_result"
    }
   ],
   "source": [
    "function sparseArnoldiIterate(adjacency::Vector{UInt32}, vecLength::Int64, numVecs::Int64)\n",
    "    out = Array{Float64, 2}(undef, vecLength, numVecs)\n",
    "    for k = 1:vecLength\n",
    "        out[k,numVecs] = rand()\n",
    "    end\n",
    "    for i = 1:numVecs-1\n",
    "        out[:,numVecs-i] = normalizeV(sparseAdjacencyMultiplyMV(adjacency, out[:, numVecs-i+1]))\n",
    "    end\n",
    "    for m = 2:numVecs\n",
    "        for n = 1:m\n",
    "            out[:,m] = addVV(1, out[:,m], -dotVV(out[:,m], out[:,n]), out[:,n])\n",
    "        end\n",
    "        out[:,m] = normalizeV(out[:,m])\n",
    "    end\n",
    "    return out\n",
    "end"
   ]
  },
  {
   "cell_type": "code",
   "execution_count": 17,
   "metadata": {},
   "outputs": [
    {
     "data": {
      "text/plain": [
       "([0.000976643 0.0021265 … 0.00164556 -0.00131031; 0.000426346 0.00147029 … 0.00125632 -0.000642841; … ; 6.48292e-5 0.000210162 … -0.000190304 -0.000119447; 7.393e-9 8.6654e-8 … 5.75399e-6 0.00160385], [833.132, -50.193, 105.354, 212.381, -123.138, 332.609, -35.6331, 54.3018, -8.56898, -0.0902457])"
      ]
     },
     "execution_count": 17,
     "metadata": {},
     "output_type": "execute_result"
    }
   ],
   "source": [
    "out, eigs = sparseArnoldiIterate(net, 1000000, 10)"
   ]
  },
  {
   "cell_type": "code",
   "execution_count": 18,
   "metadata": {},
   "outputs": [
    {
     "data": {
      "text/plain": [
       "10-element Array{Float64,1}:\n",
       "  833.1317679723005    \n",
       "  -50.193022692434575  \n",
       "  105.3542426810932    \n",
       "  212.38104033767348   \n",
       " -123.13755721154455   \n",
       "  332.6088405624878    \n",
       "  -35.63312671369444   \n",
       "   54.30177787387584   \n",
       "   -8.568980318219314  \n",
       "   -0.09024565743257543"
      ]
     },
     "execution_count": 18,
     "metadata": {},
     "output_type": "execute_result"
    }
   ],
   "source": [
    "eigs"
   ]
  },
  {
   "cell_type": "code",
   "execution_count": 43,
   "metadata": {},
   "outputs": [
    {
     "data": {
      "text/plain": [
       "sparsePowerIterate (generic function with 1 method)"
      ]
     },
     "execution_count": 43,
     "metadata": {},
     "output_type": "execute_result"
    }
   ],
   "source": [
    "function sparsePowerIterate(adjacency::Vector{UInt32}, vecLength::Int64, epsilon)\n",
    "    out = Vector{Float64}(undef, vecLength)\n",
    "    for k = 1:vecLength\n",
    "        out[k] = rand()\n",
    "    end\n",
    "    out = normalizeV(out)\n",
    "    epsilon = abs(epsilon)\n",
    "    e = 10.0*epsilon\n",
    "    oldL = 10000.0\n",
    "    lambda = 0.0\n",
    "    while e > epsilon\n",
    "        old = out\n",
    "        out = sparseAdjacencyMultiplyMV(adjacency, old)\n",
    "        lambda = dotVV(old, out)\n",
    "        e = abs((lambda-oldL)/(0.5*(lambda+oldL) + .00000000001*rand()))\n",
    "        oldL = lambda\n",
    "        out = normalizeV(out)\n",
    "    end\n",
    "    return out, lambda\n",
    "end"
   ]
  },
  {
   "cell_type": "code",
   "execution_count": 48,
   "metadata": {},
   "outputs": [
    {
     "data": {
      "text/plain": [
       "([0.000983526, 0.000428206, 0.0001492, 0.00037672, 0.000132909, 0.000232342, 8.15031e-5, 0.00117985, 0.000688853, 0.000271612  …  3.15091e-5, 0.000127637, 4.01309e-5, 0.00012594, 2.58765e-8, 4.34376e-6, 0.000105441, 6.05605e-5, 6.44586e-5, 7.67043e-9], 832.8124212362585)"
      ]
     },
     "execution_count": 48,
     "metadata": {},
     "output_type": "execute_result"
    }
   ],
   "source": [
    "eigV, lambda = sparsePowerIterate(net, 1000000, 0.0005)"
   ]
  },
  {
   "cell_type": "code",
   "execution_count": 46,
   "metadata": {},
   "outputs": [
    {
     "data": {
      "text/plain": [
       "randV (generic function with 1 method)"
      ]
     },
     "execution_count": 46,
     "metadata": {},
     "output_type": "execute_result"
    }
   ],
   "source": [
    "function randV(vecLength::Int64)\n",
    "    out = Vector{Float64}(undef, vecLength)\n",
    "    for k = 1:vecLength\n",
    "        out[k] = rand()\n",
    "    end\n",
    "    return normalizeV(out)\n",
    "end"
   ]
  },
  {
   "cell_type": "code",
   "execution_count": 72,
   "metadata": {},
   "outputs": [
    {
     "name": "stdout",
     "output_type": "stream",
     "text": [
      "-2.613393818188224e-14\n"
     ]
    }
   ],
   "source": [
    "t = randV(1000000)\n",
    "t = normalizeV(addVV(1, t, -dotVV(t, eigV), eigV))\n",
    "println(dotVV(t,eigV))"
   ]
  },
  {
   "cell_type": "code",
   "execution_count": 73,
   "metadata": {},
   "outputs": [
    {
     "data": {
      "text/plain": [
       "1000000-element Array{Float64,1}:\n",
       "  0.24740009581378888   \n",
       "  0.08568161841861827   \n",
       "  0.07745917571974952   \n",
       "  0.14369628270944088   \n",
       "  0.17741804101322264   \n",
       "  0.08442333430429075   \n",
       "  0.04143369830231565   \n",
       "  0.43748438044127846   \n",
       "  0.16680377699059226   \n",
       "  0.13757690577401493   \n",
       "  0.03319840720214212   \n",
       "  0.03806731143622319   \n",
       "  0.034925179616872484  \n",
       "  ⋮                     \n",
       " -0.00020349269894338255\n",
       "  0.00715411163130895   \n",
       "  0.008500214535787693  \n",
       "  0.007071400194904826  \n",
       " -0.0031667835978972823 \n",
       " -0.008618387421257154  \n",
       "  0.0004742843321668175 \n",
       "  0.008635006037503378  \n",
       " -0.010158347234689514  \n",
       " -0.001141038435426121  \n",
       " -0.005130178348509456  \n",
       "  0.0008370112982705292 "
      ]
     },
     "execution_count": 73,
     "metadata": {},
     "output_type": "execute_result"
    }
   ],
   "source": [
    "sparseAdjacencyMultiplyMV(net, t)"
   ]
  },
  {
   "cell_type": "code",
   "execution_count": 7,
   "metadata": {},
   "outputs": [],
   "source": [
    "x = Vector{UInt32}(undef, fLen)\n",
    "seekstart(file)\n",
    "read!(file, x)\n",
    "close(file)"
   ]
  },
  {
   "cell_type": "code",
   "execution_count": 7,
   "metadata": {},
   "outputs": [
    {
     "data": {
      "text/plain": [
       "1000000-element Array{Float64,1}:\n",
       " 0.7472613912504447 \n",
       " 0.7734244314984384 \n",
       " 0.38406015886924383\n",
       " 0.6371066679109467 \n",
       " 0.38320285987821845\n",
       " 0.9411984925750094 \n",
       " 0.5806627544766021 \n",
       " 0.15779687868502879\n",
       " 0.41335339503891944\n",
       " 0.5998178658426825 \n",
       " 0.9171882679236778 \n",
       " 0.5544713728612203 \n",
       " 0.09148564996379172\n",
       " ⋮                  \n",
       " 0.9502948537734268 \n",
       " 0.09591517006035577\n",
       " 0.365508516538505  \n",
       " 0.2944775319505222 \n",
       " 0.38275788626986573\n",
       " 0.40702678807755643\n",
       " 0.15649631083920124\n",
       " 0.936355610571693  \n",
       " 0.6967431422159633 \n",
       " 0.5387857883049423 \n",
       " 0.32757932296005965\n",
       " 0.8256076631889351 "
      ]
     },
     "execution_count": 7,
     "metadata": {},
     "output_type": "execute_result"
    }
   ],
   "source": [
    "testVec"
   ]
  },
  {
   "cell_type": "code",
   "execution_count": 11,
   "metadata": {},
   "outputs": [
    {
     "data": {
      "text/plain": [
       "String"
      ]
     },
     "execution_count": 11,
     "metadata": {},
     "output_type": "execute_result"
    }
   ],
   "source": [
    "typeof(\"Hello\")"
   ]
  },
  {
   "cell_type": "code",
   "execution_count": null,
   "metadata": {},
   "outputs": [],
   "source": [
    "file = open(\"data/friends_small_indexed\", \"r\")\n",
    "max = 0\n",
    "while !eof(file)\n",
    "    x = read(file, UInt32)\n",
    "    if x > max\n",
    "        max = x\n",
    "    end\n",
    "end\n",
    "close(file)\n",
    "println(string(max, base=10)"
   ]
  },
  {
   "cell_type": "code",
   "execution_count": 17,
   "metadata": {},
   "outputs": [
    {
     "data": {
      "text/plain": [
       "testFunc2 (generic function with 1 method)"
      ]
     },
     "execution_count": 17,
     "metadata": {},
     "output_type": "execute_result"
    }
   ],
   "source": [
    "function testFunc2(a::Int64)\n",
    "    return a*a\n",
    "end"
   ]
  },
  {
   "cell_type": "code",
   "execution_count": 18,
   "metadata": {},
   "outputs": [
    {
     "ename": "UndefVarError",
     "evalue": "UndefVarError: testFunc2! not defined",
     "output_type": "error",
     "traceback": [
      "UndefVarError: testFunc2! not defined",
      "",
      "Stacktrace:",
      " [1] top-level scope at In[18]:2"
     ]
    }
   ],
   "source": [
    "p = 5\n",
    "testFunc2!(p)"
   ]
  },
  {
   "cell_type": "code",
   "execution_count": 16,
   "metadata": {},
   "outputs": [
    {
     "data": {
      "text/plain": [
       "5"
      ]
     },
     "execution_count": 16,
     "metadata": {},
     "output_type": "execute_result"
    }
   ],
   "source": [
    "p"
   ]
  },
  {
   "cell_type": "code",
   "execution_count": 75,
   "metadata": {},
   "outputs": [
    {
     "data": {
      "text/plain": [
       "(2, 4)"
      ]
     },
     "execution_count": 75,
     "metadata": {},
     "output_type": "execute_result"
    }
   ],
   "source": [
    "size(Array{Float64,2}(undef, 2,4))"
   ]
  },
  {
   "cell_type": "code",
   "execution_count": null,
   "metadata": {},
   "outputs": [],
   "source": []
  }
 ],
 "metadata": {
  "kernelspec": {
   "display_name": "Julia 1.1.1",
   "language": "julia",
   "name": "julia-1.1"
  },
  "language_info": {
   "file_extension": ".jl",
   "mimetype": "application/julia",
   "name": "julia",
   "version": "1.1.1"
  }
 },
 "nbformat": 4,
 "nbformat_minor": 4
}
