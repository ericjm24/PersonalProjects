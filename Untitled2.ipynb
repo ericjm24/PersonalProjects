{
 "cells": [
  {
   "cell_type": "code",
   "execution_count": 1,
   "id": "educated-appeal",
   "metadata": {},
   "outputs": [
    {
     "name": "stderr",
     "output_type": "stream",
     "text": [
      "\n",
      "(process:45102): Gtk-WARNING **: 20:06:42.621: Locale not supported by C library.\n",
      "\tUsing the fallback 'C' locale.\n",
      "Gtk-Message: 20:06:42.696: Failed to load module \"canberra-gtk-module\"\n",
      "Gtk-Message: 20:06:42.697: Failed to load module \"canberra-gtk-module\"\n"
     ]
    }
   ],
   "source": [
    "using FITSIO, StatsBase, Images, ImageView, JLD, Dates"
   ]
  },
  {
   "cell_type": "code",
   "execution_count": 2,
   "id": "regional-membership",
   "metadata": {},
   "outputs": [
    {
     "data": {
      "text/plain": [
       "remove_bad_pixels (generic function with 1 method)"
      ]
     },
     "execution_count": 2,
     "metadata": {},
     "output_type": "execute_result"
    }
   ],
   "source": [
    "function remove_bad_pixels(data, threshold)\n",
    "    d = zeros(Float64, size(data).+2)\n",
    "    d[2:end-1, 2:end-1] = data\n",
    "    out = (d[3:end, 2:end-1] + d[1:end-2, 2:end-1] + d[2:end-1, 3:end] + d[2:end-1, 1:end-2])/4\n",
    "    out[out .< 0 ] .= 1\n",
    "    t_out = copy(data)\n",
    "    t_out[t_out .> threshold*out] = out[t_out .> threshold*out]\n",
    "    return Float32.(t_out)\n",
    "end"
   ]
  },
  {
   "cell_type": "code",
   "execution_count": 3,
   "id": "initial-camcorder",
   "metadata": {},
   "outputs": [
    {
     "data": {
      "text/plain": [
       "crop_symmetric (generic function with 1 method)"
      ]
     },
     "execution_count": 3,
     "metadata": {},
     "output_type": "execute_result"
    }
   ],
   "source": [
    "function crop_symmetric(data, n)\n",
    "    return data[1+n:end-n, 1+n:end-n]\n",
    "end"
   ]
  },
  {
   "cell_type": "code",
   "execution_count": 4,
   "id": "patent-phoenix",
   "metadata": {},
   "outputs": [
    {
     "data": {
      "text/plain": [
       "other_normalize_vec (generic function with 1 method)"
      ]
     },
     "execution_count": 4,
     "metadata": {},
     "output_type": "execute_result"
    }
   ],
   "source": [
    "function normalize_vec(data, quant, value)\n",
    "    p = quantile(vec(data), quant)\n",
    "    return data.*(value/p)\n",
    "end\n",
    "\n",
    "function other_normalize_vec(data, quant, value)\n",
    "    p = quantile(vec(data), quant)\n",
    "    norm = mean(vec(data[data .<= p]))\n",
    "    return data.*(value/norm)\n",
    "end"
   ]
  },
  {
   "cell_type": "code",
   "execution_count": 5,
   "id": "military-framework",
   "metadata": {},
   "outputs": [
    {
     "data": {
      "text/plain": [
       "get_time (generic function with 1 method)"
      ]
     },
     "execution_count": 5,
     "metadata": {},
     "output_type": "execute_result"
    }
   ],
   "source": [
    "function import_fits(fname)\n",
    "    f = FITS(fname)\n",
    "    data=read(f[2])\n",
    "    data[data .< 0] .= 0\n",
    "    temp = remove_bad_pixels(data, 10)\n",
    "    #temp = crop_symmetric(temp, 50)\n",
    "    temp = normalize_vec(temp, 0.6, 10)\n",
    "    return temp\n",
    "end\n",
    "\n",
    "function get_time(path)\n",
    "    f_name = split(path, \"/\")[end]\n",
    "    f_time = join(split(f_name, \"_\")[2:3])\n",
    "    t = DateTime(f_time, \"yyyymmddHHMM\")\n",
    "    return t\n",
    "end"
   ]
  },
  {
   "cell_type": "code",
   "execution_count": 10,
   "id": "level-density",
   "metadata": {},
   "outputs": [
    {
     "data": {
      "text/plain": [
       "import_data (generic function with 2 methods)"
      ]
     },
     "execution_count": 10,
     "metadata": {},
     "output_type": "execute_result"
    }
   ],
   "source": [
    "function import_data(filepath::String, n::Int64=10000)\n",
    "    paths = []\n",
    "    for (rootpath, dirs, files) in walkdir(filepath)\n",
    "        for file in files\n",
    "            if file[end-8:end-5]==\"0094\"\n",
    "                append!(paths, [join([rootpath, file], \"/\")])\n",
    "            end\n",
    "        end\n",
    "    end\n",
    "    test_data = import_fits(paths[1])\n",
    "    x,y = size(test_data)\n",
    "    n = (length(paths)<n ? length(paths) : n)\n",
    "    data = Array{Float32, 3}(undef, (x, y, n))\n",
    "    times = Vector{DateTime}(undef, n)\n",
    "    Threads.@threads for val in range(1, length=n)\n",
    "        data[:,:,val] = import_fits(paths[val])\n",
    "        times[val] = get_time(paths[val])\n",
    "    end\n",
    "    return data, times\n",
    "end"
   ]
  },
  {
   "cell_type": "code",
   "execution_count": 11,
   "id": "optional-double",
   "metadata": {},
   "outputs": [],
   "source": [
    "my_data, times = import_data(\"/data/R/solar_images/aia/synoptic/2010\");"
   ]
  },
  {
   "cell_type": "code",
   "execution_count": 14,
   "id": "sharp-theorem",
   "metadata": {},
   "outputs": [
    {
     "data": {
      "text/plain": [
       "2010-08-12T06:00:00"
      ]
     },
     "execution_count": 14,
     "metadata": {},
     "output_type": "execute_result"
    }
   ],
   "source": [
    "times[1000]"
   ]
  },
  {
   "cell_type": "code",
   "execution_count": null,
   "id": "handy-basic",
   "metadata": {},
   "outputs": [],
   "source": []
  }
 ],
 "metadata": {
  "kernelspec": {
   "display_name": "Julia 1.6.0",
   "language": "julia",
   "name": "julia-1.6"
  },
  "language_info": {
   "file_extension": ".jl",
   "mimetype": "application/julia",
   "name": "julia",
   "version": "1.6.0"
  }
 },
 "nbformat": 4,
 "nbformat_minor": 5
}
