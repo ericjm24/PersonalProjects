{
 "cells": [
  {
   "cell_type": "code",
   "execution_count": 8,
   "metadata": {},
   "outputs": [],
   "source": [
    "import csv\n",
    "import pandas as pd"
   ]
  },
  {
   "cell_type": "code",
   "execution_count": 46,
   "metadata": {},
   "outputs": [],
   "source": [
    "with open(\"Resources/nyse_companies.csv\", \"r\") as nyse, open(\"Resources/nasdaq_companies.csv\", \"r\") as nasdaq:\n",
    "    companies = [[\"Symbol\", \"Name\", \"Sector\", \"Industry\", \"Exchange\"]]\n",
    "    symbols = []\n",
    "    exchanges = [(\"nyse\", nyse), (\"nasdaq\", nasdaq)]\n",
    "    for exchange in exchanges:\n",
    "        reader = csv.reader(exchange[1], delimiter=\",\")\n",
    "        header = next(reader)\n",
    "        for row in reader:\n",
    "            if row[0] not in symbols:\n",
    "                symbols.append(row[0])\n",
    "                companies.append([row[0].strip(), row[1].strip(), row[5].strip(), row[6].strip(), exchange[0]])"
   ]
  },
  {
   "cell_type": "code",
   "execution_count": 47,
   "metadata": {},
   "outputs": [],
   "source": [
    "with open(\"Resources/companies.csv\", \"w\") as outfile:\n",
    "    writer = csv.writer(outfile, delimiter=',')\n",
    "    for row in companies:\n",
    "        writer.writerow(row)"
   ]
  },
  {
   "cell_type": "code",
   "execution_count": 48,
   "metadata": {},
   "outputs": [
    {
     "data": {
      "text/html": [
       "<div>\n",
       "<style scoped>\n",
       "    .dataframe tbody tr th:only-of-type {\n",
       "        vertical-align: middle;\n",
       "    }\n",
       "\n",
       "    .dataframe tbody tr th {\n",
       "        vertical-align: top;\n",
       "    }\n",
       "\n",
       "    .dataframe thead th {\n",
       "        text-align: right;\n",
       "    }\n",
       "</style>\n",
       "<table border=\"1\" class=\"dataframe\">\n",
       "  <thead>\n",
       "    <tr style=\"text-align: right;\">\n",
       "      <th></th>\n",
       "      <th>Symbol</th>\n",
       "      <th>Name</th>\n",
       "      <th>Sector</th>\n",
       "      <th>Industry</th>\n",
       "      <th>Exchange</th>\n",
       "    </tr>\n",
       "  </thead>\n",
       "  <tbody>\n",
       "    <tr>\n",
       "      <th>0</th>\n",
       "      <td>DDD</td>\n",
       "      <td>3D Systems Corporation</td>\n",
       "      <td>Technology</td>\n",
       "      <td>Computer Software: Prepackaged Software</td>\n",
       "      <td>nyse</td>\n",
       "    </tr>\n",
       "    <tr>\n",
       "      <th>1</th>\n",
       "      <td>MMM</td>\n",
       "      <td>3M Company</td>\n",
       "      <td>Health Care</td>\n",
       "      <td>Medical/Dental Instruments</td>\n",
       "      <td>nyse</td>\n",
       "    </tr>\n",
       "    <tr>\n",
       "      <th>2</th>\n",
       "      <td>WBAI</td>\n",
       "      <td>500.com Limited</td>\n",
       "      <td>Consumer Services</td>\n",
       "      <td>Services-Misc. Amusement &amp; Recreation</td>\n",
       "      <td>nyse</td>\n",
       "    </tr>\n",
       "    <tr>\n",
       "      <th>3</th>\n",
       "      <td>WUBA</td>\n",
       "      <td>58.com Inc.</td>\n",
       "      <td>Technology</td>\n",
       "      <td>Computer Software: Programming, Data Processing</td>\n",
       "      <td>nyse</td>\n",
       "    </tr>\n",
       "    <tr>\n",
       "      <th>4</th>\n",
       "      <td>EGHT</td>\n",
       "      <td>8x8 Inc</td>\n",
       "      <td>Technology</td>\n",
       "      <td>EDP Services</td>\n",
       "      <td>nyse</td>\n",
       "    </tr>\n",
       "  </tbody>\n",
       "</table>\n",
       "</div>"
      ],
      "text/plain": [
       "  Symbol                    Name             Sector  \\\n",
       "0    DDD  3D Systems Corporation         Technology   \n",
       "1    MMM              3M Company        Health Care   \n",
       "2   WBAI         500.com Limited  Consumer Services   \n",
       "3   WUBA             58.com Inc.         Technology   \n",
       "4   EGHT                 8x8 Inc         Technology   \n",
       "\n",
       "                                          Industry Exchange  \n",
       "0          Computer Software: Prepackaged Software     nyse  \n",
       "1                       Medical/Dental Instruments     nyse  \n",
       "2            Services-Misc. Amusement & Recreation     nyse  \n",
       "3  Computer Software: Programming, Data Processing     nyse  \n",
       "4                                     EDP Services     nyse  "
      ]
     },
     "execution_count": 48,
     "metadata": {},
     "output_type": "execute_result"
    }
   ],
   "source": [
    "companies = pd.read_csv(\"Resources/companies.csv\")\n",
    "companies.head()"
   ]
  },
  {
   "cell_type": "code",
   "execution_count": 49,
   "metadata": {},
   "outputs": [],
   "source": [
    "companies.drop(companies.loc[companies[\"Symbol\"].apply(lambda x: \".\" in x), :].index, axis=0, inplace=True)\n",
    "companies.drop(companies.loc[companies[\"Symbol\"].apply(lambda x: \"^\" in x), :].index, axis=0, inplace=True)\n",
    "companies.drop(companies.loc[companies[\"Symbol\"].apply(lambda x: \"-\" in x), :].index, axis=0, inplace=True)"
   ]
  },
  {
   "cell_type": "code",
   "execution_count": 50,
   "metadata": {},
   "outputs": [],
   "source": [
    "companies.set_index(\"Symbol\").to_csv(\"Resources/companies.csv\")"
   ]
  }
 ],
 "metadata": {
  "kernelspec": {
   "display_name": "Python 3",
   "language": "python",
   "name": "python3"
  },
  "language_info": {
   "codemirror_mode": {
    "name": "ipython",
    "version": 3
   },
   "file_extension": ".py",
   "mimetype": "text/x-python",
   "name": "python",
   "nbconvert_exporter": "python",
   "pygments_lexer": "ipython3",
   "version": "3.7.3"
  }
 },
 "nbformat": 4,
 "nbformat_minor": 4
}
