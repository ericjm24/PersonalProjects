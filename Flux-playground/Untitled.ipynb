{
 "cells": [
  {
   "cell_type": "code",
   "execution_count": 6,
   "id": "5d6cd0ff-8ea3-496f-b0bd-d23aa1438821",
   "metadata": {},
   "outputs": [
    {
     "data": {
      "text/plain": [
       "int_to_binarray (generic function with 1 method)"
      ]
     },
     "execution_count": 6,
     "metadata": {},
     "output_type": "execute_result"
    }
   ],
   "source": [
    "function int_to_binarray(x::Int,y::Int)\n",
    "    out = Array{Int16}(undef, y)\n",
    "    t = x\n",
    "    for i in 1:y\n",
    "        out[i] = t % 2\n",
    "        t ÷= 2\n",
    "    end\n",
    "    return out\n",
    "end"
   ]
  },
  {
   "cell_type": "code",
   "execution_count": 18,
   "id": "e82fa571-6de6-42cf-9a8a-bcbb5712f394",
   "metadata": {},
   "outputs": [
    {
     "data": {
      "text/plain": [
       "8-element Vector{Int16}:\n",
       " 0\n",
       " 0\n",
       " 0\n",
       " 0\n",
       " 0\n",
       " 1\n",
       " 0\n",
       " 0"
      ]
     },
     "execution_count": 18,
     "metadata": {},
     "output_type": "execute_result"
    }
   ],
   "source": [
    "int_to_binarray(32, 8)"
   ]
  },
  {
   "cell_type": "code",
   "execution_count": 34,
   "id": "eedb0a86-374c-455a-b660-fa30c50285ab",
   "metadata": {},
   "outputs": [
    {
     "data": {
      "text/plain": [
       "Problem"
      ]
     },
     "execution_count": 34,
     "metadata": {},
     "output_type": "execute_result"
    }
   ],
   "source": [
    "struct Problem\n",
    "    x1::Vector{Int16}\n",
    "    x2::Vector{Int16}\n",
    "    y::Vector{Int16}\n",
    "end\n",
    "function Problem(x1::Number, x2::Number, siz::Number)\n",
    "    x1_in = Int64(x1)\n",
    "    x2_in = Int64(x2)\n",
    "    siz_in = Int64(siz)\n",
    "    y_in = x1_in + x2_in\n",
    "    return Problem(int_to_binarray(x1_in, siz_in), int_to_binarray(x2_in, siz_in), int_to_binarray(y_in, siz_in+1))\n",
    "end\n",
    "\n",
    "function Problem(x1::Number, x2::Number)\n",
    "    return Problem(x1, x2, 8)\n",
    "end"
   ]
  },
  {
   "cell_type": "code",
   "execution_count": 36,
   "id": "4d115568-aed2-4712-a367-a5d5b048500d",
   "metadata": {},
   "outputs": [
    {
     "data": {
      "text/plain": [
       "Problem(Int16[1, 1, 0, 0, 0, 0, 0, 1], Int16[1, 1, 0, 0, 0, 0, 0, 1], Int16[0, 1, 1, 0, 0, 0, 0, 0, 1])"
      ]
     },
     "execution_count": 36,
     "metadata": {},
     "output_type": "execute_result"
    }
   ],
   "source": [
    "Problem(131, 131)"
   ]
  },
  {
   "cell_type": "code",
   "execution_count": null,
   "id": "5bf05f52-1fea-4bd7-85b7-a1734a6201f7",
   "metadata": {},
   "outputs": [],
   "source": []
  }
 ],
 "metadata": {
  "kernelspec": {
   "display_name": "Julia 1.6.0",
   "language": "julia",
   "name": "julia-1.6"
  },
  "language_info": {
   "file_extension": ".jl",
   "mimetype": "application/julia",
   "name": "julia",
   "version": "1.6.0"
  }
 },
 "nbformat": 4,
 "nbformat_minor": 5
}
