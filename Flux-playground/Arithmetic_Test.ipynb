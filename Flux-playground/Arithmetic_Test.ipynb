{
 "cells": [
  {
   "cell_type": "code",
   "execution_count": 1,
   "id": "5d6cd0ff-8ea3-496f-b0bd-d23aa1438821",
   "metadata": {},
   "outputs": [
    {
     "data": {
      "text/plain": [
       "int_to_binarray (generic function with 1 method)"
      ]
     },
     "execution_count": 1,
     "metadata": {},
     "output_type": "execute_result"
    }
   ],
   "source": [
    "function int_to_binarray(x::Int,y::Int)\n",
    "    out = Array{Int8}(undef, y)\n",
    "    t = x\n",
    "    for i in 1:y\n",
    "        out[i] = t % 2\n",
    "        t ÷= 2\n",
    "    end\n",
    "    return out\n",
    "end"
   ]
  },
  {
   "cell_type": "code",
   "execution_count": 2,
   "id": "e82fa571-6de6-42cf-9a8a-bcbb5712f394",
   "metadata": {},
   "outputs": [
    {
     "data": {
      "text/plain": [
       "8-element Vector{Int8}:\n",
       " 0\n",
       " 0\n",
       " 0\n",
       " 0\n",
       " 0\n",
       " 1\n",
       " 0\n",
       " 0"
      ]
     },
     "execution_count": 2,
     "metadata": {},
     "output_type": "execute_result"
    }
   ],
   "source": [
    "int_to_binarray(32, 8)"
   ]
  },
  {
   "cell_type": "code",
   "execution_count": 3,
   "id": "eedb0a86-374c-455a-b660-fa30c50285ab",
   "metadata": {},
   "outputs": [
    {
     "data": {
      "text/plain": [
       "Problem"
      ]
     },
     "execution_count": 3,
     "metadata": {},
     "output_type": "execute_result"
    }
   ],
   "source": [
    "struct Problem\n",
    "    x1::Vector{Int8}\n",
    "    x2::Vector{Int8}\n",
    "    y::Vector{Int8}\n",
    "end\n",
    "function Problem(x1::Number, x2::Number, siz::Number)\n",
    "    x1_in = Int64(x1)\n",
    "    x2_in = Int64(x2)\n",
    "    siz_in = Int64(siz)\n",
    "    y_in = x1_in + x2_in\n",
    "    return Problem(int_to_binarray(x1_in, siz_in), int_to_binarray(x2_in, siz_in), int_to_binarray(y_in, siz_in))\n",
    "end\n",
    "\n",
    "function Problem(x1::Number, x2::Number)\n",
    "    return Problem(x1, x2, 8)\n",
    "end"
   ]
  },
  {
   "cell_type": "code",
   "execution_count": 4,
   "id": "4d115568-aed2-4712-a367-a5d5b048500d",
   "metadata": {},
   "outputs": [
    {
     "data": {
      "text/plain": [
       "Problem(Int8[0, 1, 0, 0, 0, 1, 0, 1], Int8[1, 1, 1, 1, 1, 1, 0, 1], Int8[1, 0, 0, 0, 0, 1, 1, 0])"
      ]
     },
     "execution_count": 4,
     "metadata": {},
     "output_type": "execute_result"
    }
   ],
   "source": [
    "t = Problem(162, 191)"
   ]
  },
  {
   "cell_type": "markdown",
   "id": "21346f4b-4698-404e-8d37-c515f9a4bab2",
   "metadata": {},
   "source": [
    "Now we need to start constructing a neural network. The simple neural network will be a vector of nodes with a dense matrix of weights. This will probably turn into a sparse matrix for large numbers of nodes, but with a small number of nodes it's faster to do it as a dense matrix."
   ]
  },
  {
   "cell_type": "code",
   "execution_count": 17,
   "id": "d7283fdd-083d-420f-9070-f55191eac0ec",
   "metadata": {},
   "outputs": [
    {
     "data": {
      "text/plain": [
       "50×50 Matrix{Float16}:\n",
       "  0.04492    0.1035     0.3477     0.1641   …  -0.498     -0.127    -0.3389\n",
       "  0.04883   -0.1904    -0.4727    -0.06152     -0.001953   0.3232    0.2783\n",
       " -0.0918     0.1592    -0.1436     0.335       -0.02734   -0.0996    0.457\n",
       "  0.2295     0.1729     0.4023     0.414       -0.3203     0.01563   0.4922\n",
       "  0.0791     0.21       0.457     -0.1133      -0.2158    -0.253    -0.2441\n",
       " -0.3691    -0.1406    -0.1875     0.497    …   0.3135    -0.3076   -0.4854\n",
       "  0.2031     0.2695     0.2139     0.3066       0.04395   -0.0762    0.1797\n",
       " -0.2607     0.1074    -0.2012     0.1982      -0.415     -0.169     0.4766\n",
       " -0.009766  -0.12305    0.02734    0.1543       0.419      0.3018   -0.1826\n",
       " -0.2812    -0.001953   0.207      0.02148      0.06445   -0.2783    0.01563\n",
       "  0.2852    -0.3945    -0.209     -0.03418  …  -0.0635     0.0752   -0.2354\n",
       " -0.4785     0.336     -0.4316     0.338        0.4873    -0.08203  -0.2451\n",
       " -0.4014     0.378      0.01074    0.2002      -0.4795     0.373     0.4297\n",
       "  ⋮                                         ⋱                       \n",
       " -0.291     -0.0879    -0.02637    0.01855     -0.4785    -0.4717   -0.1934\n",
       "  0.419     -0.01074    0.1084     0.2383       0.2686    -0.4277   -0.3467\n",
       " -0.332     -0.2598     0.1641    -0.1514   …  -0.1318    -0.33      0.3506\n",
       " -0.3135     0.1484    -0.2305     0.1221       0.3096    -0.1572   -0.458\n",
       " -0.4531    -0.379     -0.1846     0.0928       0.4287     0.3125   -0.4697\n",
       " -0.2021    -0.1777     0.4404    -0.11914      0.1777     0.05664   0.2676\n",
       "  0.0       -0.421     -0.08887    0.10645      0.3975     0.4414   -0.4043\n",
       " -0.2764     0.02148    0.2314     0.0947   …  -0.2314    -0.4922   -0.03223\n",
       " -0.4824    -0.3008    -0.4795     0.12305      0.0996     0.2422   -0.3818\n",
       "  0.375     -0.2627     0.1084     0.2744      -0.2686     0.08887  -0.3174\n",
       " -0.3496     0.2715    -0.007812  -0.3525      -0.1426     0.206    -0.4268\n",
       "  0.0625     0.4482    -0.2432     0.25         0.3916     0.1514    0.3242"
      ]
     },
     "execution_count": 17,
     "metadata": {},
     "output_type": "execute_result"
    }
   ],
   "source": [
    "using LinearAlgebra\n",
    "n = 50\n",
    "NodeVector = rand(Float16, n)\n",
    "ConnectionMatrix = rand(Float16, (n,n))\n",
    "ConnectionMatrix .-= 0.5"
   ]
  },
  {
   "cell_type": "code",
   "execution_count": 6,
   "id": "64e25259-e1d3-4c08-b04b-d64a3315a793",
   "metadata": {},
   "outputs": [
    {
     "data": {
      "text/plain": [
       "#1 (generic function with 1 method)"
      ]
     },
     "execution_count": 6,
     "metadata": {},
     "output_type": "execute_result"
    }
   ],
   "source": [
    "function increment_network(vec, mat, func, n_static)\n",
    "    temp = mat * vec\n",
    "    for i in 1:length(vec)\n",
    "        if i <= n_static\n",
    "            temp[i] = vec[i]\n",
    "        else\n",
    "            temp[i] = func(temp[i])\n",
    "        end\n",
    "    end\n",
    "    return temp\n",
    "end\n",
    "σ = (x)->atan(x)*2/π"
   ]
  },
  {
   "cell_type": "code",
   "execution_count": 7,
   "id": "9a674a9d-4776-4c85-a06b-407b5117af1d",
   "metadata": {},
   "outputs": [
    {
     "data": {
      "text/plain": [
       "50-element Vector{Float16}:\n",
       "  0.837\n",
       "  0.5996\n",
       "  0.5254\n",
       "  0.709\n",
       "  0.4863\n",
       "  0.5205\n",
       "  0.882\n",
       "  0.7207\n",
       "  0.1514\n",
       "  0.756\n",
       " -0.004063\n",
       " -0.447\n",
       " -0.09\n",
       "  ⋮\n",
       " -0.3225\n",
       " -0.571\n",
       " -0.2993\n",
       " -0.3564\n",
       "  0.5527\n",
       " -0.3003\n",
       "  0.4148\n",
       " -0.459\n",
       "  0.5137\n",
       " -0.406\n",
       "  0.1427\n",
       " -0.4307"
      ]
     },
     "execution_count": 7,
     "metadata": {},
     "output_type": "execute_result"
    }
   ],
   "source": [
    "vec = NodeVector\n",
    "for i = 1:100000\n",
    "    vec = increment_network(vec, ConnectionMatrix, σ, 10)\n",
    "end\n",
    "vec"
   ]
  },
  {
   "cell_type": "code",
   "execution_count": 13,
   "id": "387b4614-e003-448a-9e6d-22a3a5577fb4",
   "metadata": {},
   "outputs": [
    {
     "data": {
      "text/plain": [
       "50-element Vector{Float16}:\n",
       "  0.837\n",
       "  0.5996\n",
       "  0.5254\n",
       "  0.709\n",
       "  0.4863\n",
       "  0.5205\n",
       "  0.882\n",
       "  0.7207\n",
       "  0.1514\n",
       "  0.756\n",
       " -0.005676\n",
       " -0.4475\n",
       " -0.0891\n",
       "  ⋮\n",
       " -0.323\n",
       " -0.5703\n",
       " -0.2986\n",
       " -0.356\n",
       "  0.553\n",
       " -0.3003\n",
       "  0.4146\n",
       " -0.4592\n",
       "  0.514\n",
       " -0.407\n",
       "  0.142\n",
       " -0.4307"
      ]
     },
     "execution_count": 13,
     "metadata": {},
     "output_type": "execute_result"
    }
   ],
   "source": [
    "vec = increment_network(vec, ConnectionMatrix, σ, 10)\n",
    "vec"
   ]
  },
  {
   "cell_type": "code",
   "execution_count": 15,
   "id": "d28714cd-b327-4b42-9fcb-6fd178f3b153",
   "metadata": {},
   "outputs": [
    {
     "data": {
      "text/plain": [
       "EnergyFunction (generic function with 1 method)"
      ]
     },
     "execution_count": 15,
     "metadata": {},
     "output_type": "execute_result"
    }
   ],
   "source": [
    "function EnergyFunction(v, cm, f, n_static)\n",
    "    return sum((increment_network(v,cm,f,n_static).-v).^2)\n",
    "end"
   ]
  },
  {
   "cell_type": "code",
   "execution_count": 19,
   "id": "d19a6e42-0abf-4f31-a6c3-27e49cab01ab",
   "metadata": {},
   "outputs": [
    {
     "data": {
      "text/plain": [
       "Float16(21.73)"
      ]
     },
     "execution_count": 19,
     "metadata": {},
     "output_type": "execute_result"
    }
   ],
   "source": [
    "vec = NodeVector\n",
    "EnergyFunction(vec, ConnectionMatrix, σ, 10)"
   ]
  },
  {
   "cell_type": "code",
   "execution_count": 33,
   "id": "4d2e7a9a-d058-4529-97db-949b41e5eb35",
   "metadata": {},
   "outputs": [
    {
     "data": {
      "text/plain": [
       "ConnectionEnergy (generic function with 1 method)"
      ]
     },
     "execution_count": 33,
     "metadata": {},
     "output_type": "execute_result"
    }
   ],
   "source": [
    "function ConnectionEnergy(cm, ϵ)\n",
    "    return sum(cm .* tanh.(ϵ.*cm))\n",
    "end"
   ]
  },
  {
   "cell_type": "code",
   "execution_count": 20,
   "id": "50f45e61-4f58-481e-bdd9-f9e0d9b528fa",
   "metadata": {},
   "outputs": [
    {
     "data": {
      "text/plain": [
       "2×2 Matrix{Int64}:\n",
       " 2  4\n",
       " 5  1"
      ]
     },
     "execution_count": 20,
     "metadata": {},
     "output_type": "execute_result"
    }
   ],
   "source": [
    "a = "
   ]
  },
  {
   "cell_type": "code",
   "execution_count": 38,
   "id": "f65c94a6-6b2e-43ad-80e2-26f65a288b9d",
   "metadata": {},
   "outputs": [
    {
     "data": {
      "text/plain": [
       "Float16(633.0)"
      ]
     },
     "execution_count": 38,
     "metadata": {},
     "output_type": "execute_result"
    }
   ],
   "source": [
    "ConnectionEnergy(ConnectionMatrix, 1000)"
   ]
  },
  {
   "cell_type": "code",
   "execution_count": null,
   "id": "4fdc8319-145f-4829-8077-0188d6cd52a1",
   "metadata": {},
   "outputs": [],
   "source": []
  }
 ],
 "metadata": {
  "kernelspec": {
   "display_name": "Julia 1.6.0",
   "language": "julia",
   "name": "julia-1.6"
  },
  "language_info": {
   "file_extension": ".jl",
   "mimetype": "application/julia",
   "name": "julia",
   "version": "1.6.0"
  }
 },
 "nbformat": 4,
 "nbformat_minor": 5
}
