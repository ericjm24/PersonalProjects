{
 "cells": [
  {
   "cell_type": "code",
   "execution_count": 1,
   "id": "5d6cd0ff-8ea3-496f-b0bd-d23aa1438821",
   "metadata": {},
   "outputs": [],
   "source": [
    "using LinearAlgebra"
   ]
  },
  {
   "cell_type": "code",
   "execution_count": 2,
   "id": "f92f120c-a250-4e92-b5b1-988ecc799de0",
   "metadata": {},
   "outputs": [
    {
     "data": {
      "text/plain": [
       "binarray_to_int (generic function with 1 method)"
      ]
     },
     "execution_count": 2,
     "metadata": {},
     "output_type": "execute_result"
    }
   ],
   "source": [
    "function int_to_binarray(x::Int,y::Int)\n",
    "    out = Array{Int8}(undef, y)\n",
    "    t = x\n",
    "    for i in 1:y\n",
    "        out[i] = t % 2\n",
    "        t ÷= 2\n",
    "    end\n",
    "    return out\n",
    "end\n",
    "\n",
    "function binarray_to_int(x)\n",
    "    out = sum(x .* (2 .^ Vector(0:length(x)-1)))\n",
    "end"
   ]
  },
  {
   "cell_type": "code",
   "execution_count": 3,
   "id": "eedb0a86-374c-455a-b660-fa30c50285ab",
   "metadata": {},
   "outputs": [
    {
     "data": {
      "text/plain": [
       "isSolution (generic function with 1 method)"
      ]
     },
     "execution_count": 3,
     "metadata": {},
     "output_type": "execute_result"
    }
   ],
   "source": [
    "struct AdditionProblem\n",
    "    x1::Vector{Int8}\n",
    "    x2::Vector{Int8}\n",
    "    y::Vector{Int8}\n",
    "end\n",
    "function AdditionProblem(x1::Number, x2::Number, siz::Number)\n",
    "    x1_in = Int64(x1)\n",
    "    x2_in = Int64(x2)\n",
    "    siz_in = Int64(siz)\n",
    "    y_in = x1_in + x2_in\n",
    "    return AdditionProblem(int_to_binarray(x1_in, siz_in), int_to_binarray(x2_in, siz_in), int_to_binarray(y_in, siz_in))\n",
    "end\n",
    "\n",
    "function AdditionProblem(x1::Number, x2::Number)\n",
    "    return Problem(x1, x2, 8)\n",
    "end\n",
    "\n",
    "struct IncrementProblem\n",
    "    x::Vector{Int8}\n",
    "    y::Vector{Int8}\n",
    "end\n",
    "function IncrementProblem(x::Number; size::Number)\n",
    "    x_in = Int64(x)\n",
    "    siz_in = Int64(size)\n",
    "    y_in = x_in + 1\n",
    "    return IncrementProblem(int_to_binarray(x_in, siz_in), int_to_binarray(y_in, siz_in))\n",
    "end\n",
    "\n",
    "function IncrementProblem(x::Number)\n",
    "    return IncrementProblem(x, 8)\n",
    "end\n",
    "\n",
    "function IncrementProblem(x::IncrementProblem)\n",
    "    return IncrementProblem(binarray_to_int(x.y), size=length(x.x))\n",
    "end\n",
    "\n",
    "function isSolution(p::IncrementProblem, vec)\n",
    "    n = length(p.x)\n",
    "    if length(vec)<(2*n + 1)\n",
    "        return false\n",
    "    end\n",
    "    return (vec[1] == 1) && (vec[2:n+1]==p.x) && (vec[2+n:2*n+1]==p.y)\n",
    "end"
   ]
  },
  {
   "cell_type": "code",
   "execution_count": 4,
   "id": "d5d631f6-4fea-4f9e-8685-87872abc956c",
   "metadata": {},
   "outputs": [
    {
     "data": {
      "text/plain": [
       "randomProblemVector (generic function with 1 method)"
      ]
     },
     "execution_count": 4,
     "metadata": {},
     "output_type": "execute_result"
    }
   ],
   "source": [
    "function randomProblem(n)\n",
    "    return IncrementProblem(floor(rand()*2^n), size=n)\n",
    "end\n",
    "\n",
    "function randomProblemMatrix(p)\n",
    "    n = length(p.x)\n",
    "    mat_size = 1+4*n\n",
    "    out_mat = zeros(Float16, (mat_size, mat_size))\n",
    "    out_mat[2+n:end, 1:end] = floor.(rand(mat_size-1-n, mat_size).*3 .-1)\n",
    "    out_mat[1,1] = 1\n",
    "    for k = 1:n\n",
    "        out_mat[k+1,k+1] = 1\n",
    "        out_mat[1+n+k,k+n+1] = 0\n",
    "    end\n",
    "    return out_mat\n",
    "end\n",
    "\n",
    "function randomProblemVector(p)\n",
    "    n = length(p.x)\n",
    "    vec_size = 1+2*n+3*(n-1)\n",
    "    out_vec = zeros(Float16, vec_size)\n",
    "    out_vec[1] = 1\n",
    "    for k = 1:n\n",
    "        out_vec[k+1] = p.x[k]\n",
    "        out_vec[k+1+n] = p.y[k]\n",
    "    end\n",
    "    for k = 2+2n:vec_size\n",
    "        out_vec[k] = min(max(rand()*3-1, 0), 1)\n",
    "    end\n",
    "    return out_vec\n",
    "end"
   ]
  },
  {
   "cell_type": "markdown",
   "id": "21346f4b-4698-404e-8d37-c515f9a4bab2",
   "metadata": {},
   "source": [
    "Now we need to start constructing a neural network. The simple neural network will be a vector of nodes with a dense matrix of weights. This will probably turn into a sparse matrix for large numbers of nodes, but with a small number of nodes it's faster to do it as a dense matrix."
   ]
  },
  {
   "cell_type": "code",
   "execution_count": 5,
   "id": "d7283fdd-083d-420f-9070-f55191eac0ec",
   "metadata": {},
   "outputs": [
    {
     "data": {
      "text/plain": [
       "increment_network (generic function with 2 methods)"
      ]
     },
     "execution_count": 5,
     "metadata": {},
     "output_type": "execute_result"
    }
   ],
   "source": [
    "function increment_network(vec, mat, func, n_static)\n",
    "    temp = mat * vec\n",
    "    for i in 1:length(vec)\n",
    "        if i <= n_static\n",
    "            temp[i] = vec[i]\n",
    "        else\n",
    "            temp[i] = func(temp[i])\n",
    "        end\n",
    "    end\n",
    "    return temp\n",
    "end\n",
    "σ = (x)->atan(x)*4/π\n",
    "ξ = (x)-> max(min(1.0,x),0.0)\n",
    "function increment_network(vec, mat, n_static)\n",
    "    return increment_network(vec, mat, ξ, n_static)\n",
    "end"
   ]
  },
  {
   "cell_type": "code",
   "execution_count": 6,
   "id": "7fc6210b-cb1e-42ce-ad5b-f35517880081",
   "metadata": {},
   "outputs": [
    {
     "data": {
      "text/plain": [
       "isStableSolution (generic function with 1 method)"
      ]
     },
     "execution_count": 6,
     "metadata": {},
     "output_type": "execute_result"
    }
   ],
   "source": [
    "function isStableSolution(p, v, m)\n",
    "    n = length(p.x)\n",
    "    if !isSolution(p, v)\n",
    "        return false\n",
    "    end\n",
    "    v_out = increment_network(v,m,n)\n",
    "    if v != v_out\n",
    "        return false\n",
    "    elseif !isSolution(p,v_out)\n",
    "        return false\n",
    "    end\n",
    "    return true\n",
    "end"
   ]
  },
  {
   "cell_type": "markdown",
   "id": "7b0f4392-ea02-4a24-9819-210926cc04a7",
   "metadata": {},
   "source": [
    "I am going to start with the incremental problem, searching for the pattern of adding 1 to an array.\n",
    "This one is a simple chain of XOR and AND.\n",
    "\n",
    "NOT(a) = 1 - a\n",
    "OR(a,b) = a + b\n",
    "AND(a,b) = a+b-1\n",
    "NAND(a,b) = 2 - a - b\n",
    "XOR(a,b) = AND( OR(a,b), NOT( AND(a,b) ) )\n",
    "\n",
    "First 9 elements are static (1 \"rail\" and 8 input)\n",
    "Elements 10:17 are output\n",
    "\n",
    "Lets start with 4 elements:"
   ]
  },
  {
   "cell_type": "code",
   "execution_count": 7,
   "id": "b0c4d344-ee9a-4430-8374-87adc147c951",
   "metadata": {},
   "outputs": [
    {
     "data": {
      "text/plain": [
       "construct_solution_matrix (generic function with 1 method)"
      ]
     },
     "execution_count": 7,
     "metadata": {},
     "output_type": "execute_result"
    }
   ],
   "source": [
    "function construct_solution_matrix(n)\n",
    "    mat_size = 1+2*n+3*(n-1)\n",
    "    out_mat = zeros(Float16, (mat_size, mat_size))\n",
    "    for k = 1:n+1\n",
    "        out_mat[k,k] = 1\n",
    "    end\n",
    "    out_mat[2+n, 1] = 1\n",
    "    out_mat[2+n,2] = -1\n",
    "    old_and = 2\n",
    "    for k = 2:n\n",
    "        and_row = -4 + 2*n + 3*k\n",
    "        or_row = and_row+1\n",
    "        not_and_row = or_row+1\n",
    "        output_row = 1+n+k\n",
    "        out_mat[and_row, 1] = -1\n",
    "        out_mat[and_row, 1+k] = 1\n",
    "        out_mat[and_row, old_and] = 1\n",
    "        out_mat[or_row, 1+k] = 1\n",
    "        out_mat[or_row, old_and] = 1\n",
    "        out_mat[not_and_row, 1] = 1\n",
    "        out_mat[not_and_row, and_row] = -1\n",
    "        old_and = and_row\n",
    "        out_mat[output_row, 1] = -1\n",
    "        out_mat[output_row, or_row] = 1\n",
    "        out_mat[output_row, not_and_row] = 1\n",
    "    end\n",
    "    return out_mat\n",
    "end"
   ]
  },
  {
   "cell_type": "code",
   "execution_count": 19,
   "id": "fd563926-757e-40db-a76f-69150f4bbbb7",
   "metadata": {},
   "outputs": [
    {
     "name": "stdout",
     "output_type": "stream",
     "text": [
      "true"
     ]
    }
   ],
   "source": [
    "n = 128\n",
    "p = randomProblem(n)\n",
    "v = randomProblemVector(p)\n",
    "m = construct_solution_matrix(n)\n",
    "for q = 1:50\n",
    "    v = increment_network(v,m,n)\n",
    "end\n",
    "print(isStableSolution(p,v,m))"
   ]
  },
  {
   "cell_type": "markdown",
   "id": "4c032d0a-6d61-4f4c-b443-73c381df5b6f",
   "metadata": {},
   "source": [
    "Next problems:\n",
    "\n",
    "1. How do we intelligently increase the size of the network to handle more solutions using previously known solutions to restrict the problem space\n",
    "2. Optimize the network to eliminate redundancy without sacrificing accuracy"
   ]
  }
 ],
 "metadata": {
  "kernelspec": {
   "display_name": "Julia 1.6.0",
   "language": "julia",
   "name": "julia-1.6"
  },
  "language_info": {
   "file_extension": ".jl",
   "mimetype": "application/julia",
   "name": "julia",
   "version": "1.6.0"
  }
 },
 "nbformat": 4,
 "nbformat_minor": 5
}
